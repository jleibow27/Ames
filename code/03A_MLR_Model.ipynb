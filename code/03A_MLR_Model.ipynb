{
 "cells": [
  {
   "cell_type": "markdown",
   "metadata": {},
   "source": [
    "# Ames Housing Notebook: 03A - Multi Linear Regression Model\n",
    "***"
   ]
  },
  {
   "cell_type": "markdown",
   "metadata": {},
   "source": [
    "### Importing basic packages w/ scikit learn - linear_model, model_selection & metrics packages"
   ]
  },
  {
   "cell_type": "code",
   "execution_count": 2226,
   "metadata": {},
   "outputs": [],
   "source": [
    "import pandas as pd\n",
    "import numpy as np\n",
    "import seaborn as sns\n",
    "import matplotlib.pyplot as plt\n",
    "from sklearn.linear_model import LinearRegression\n",
    "from sklearn.model_selection import train_test_split, cross_val_score\n",
    "from sklearn.metrics import mean_squared_error\n",
    "from sklearn.metrics import r2_score\n",
    "\n",
    "%matplotlib inline"
   ]
  },
  {
   "cell_type": "markdown",
   "metadata": {},
   "source": [
    "### Reading in the cleaned train csv that was prepared in the 01_Cleaning notebook"
   ]
  },
  {
   "cell_type": "code",
   "execution_count": 2227,
   "metadata": {},
   "outputs": [],
   "source": [
    "train_df = pd.read_csv('../datasets/train_clean.csv')"
   ]
  },
  {
   "cell_type": "code",
   "execution_count": 2228,
   "metadata": {},
   "outputs": [
    {
     "data": {
      "text/html": [
       "<div>\n",
       "<style scoped>\n",
       "    .dataframe tbody tr th:only-of-type {\n",
       "        vertical-align: middle;\n",
       "    }\n",
       "\n",
       "    .dataframe tbody tr th {\n",
       "        vertical-align: top;\n",
       "    }\n",
       "\n",
       "    .dataframe thead th {\n",
       "        text-align: right;\n",
       "    }\n",
       "</style>\n",
       "<table border=\"1\" class=\"dataframe\">\n",
       "  <thead>\n",
       "    <tr style=\"text-align: right;\">\n",
       "      <th></th>\n",
       "      <th>Unnamed: 0</th>\n",
       "      <th>id_x</th>\n",
       "      <th>pid_x</th>\n",
       "      <th>ms_subclass_x</th>\n",
       "      <th>ms_zoning</th>\n",
       "      <th>lot_area_x</th>\n",
       "      <th>street</th>\n",
       "      <th>lot_shape</th>\n",
       "      <th>land_contour</th>\n",
       "      <th>utilities</th>\n",
       "      <th>...</th>\n",
       "      <th>paved_drive_Y</th>\n",
       "      <th>sale_type_COD</th>\n",
       "      <th>sale_type_CWD</th>\n",
       "      <th>sale_type_Con</th>\n",
       "      <th>sale_type_ConLD</th>\n",
       "      <th>sale_type_ConLI</th>\n",
       "      <th>sale_type_ConLw</th>\n",
       "      <th>sale_type_New</th>\n",
       "      <th>sale_type_Oth</th>\n",
       "      <th>sale_type_WD</th>\n",
       "    </tr>\n",
       "  </thead>\n",
       "  <tbody>\n",
       "    <tr>\n",
       "      <th>0</th>\n",
       "      <td>0</td>\n",
       "      <td>109</td>\n",
       "      <td>533352170</td>\n",
       "      <td>60</td>\n",
       "      <td>RL</td>\n",
       "      <td>13517</td>\n",
       "      <td>Pave</td>\n",
       "      <td>IR1</td>\n",
       "      <td>Lvl</td>\n",
       "      <td>AllPub</td>\n",
       "      <td>...</td>\n",
       "      <td>1</td>\n",
       "      <td>0</td>\n",
       "      <td>0</td>\n",
       "      <td>0</td>\n",
       "      <td>0</td>\n",
       "      <td>0</td>\n",
       "      <td>0</td>\n",
       "      <td>0</td>\n",
       "      <td>0</td>\n",
       "      <td>1</td>\n",
       "    </tr>\n",
       "    <tr>\n",
       "      <th>1</th>\n",
       "      <td>1</td>\n",
       "      <td>544</td>\n",
       "      <td>531379050</td>\n",
       "      <td>60</td>\n",
       "      <td>RL</td>\n",
       "      <td>11492</td>\n",
       "      <td>Pave</td>\n",
       "      <td>IR1</td>\n",
       "      <td>Lvl</td>\n",
       "      <td>AllPub</td>\n",
       "      <td>...</td>\n",
       "      <td>1</td>\n",
       "      <td>0</td>\n",
       "      <td>0</td>\n",
       "      <td>0</td>\n",
       "      <td>0</td>\n",
       "      <td>0</td>\n",
       "      <td>0</td>\n",
       "      <td>0</td>\n",
       "      <td>0</td>\n",
       "      <td>1</td>\n",
       "    </tr>\n",
       "  </tbody>\n",
       "</table>\n",
       "<p>2 rows × 347 columns</p>\n",
       "</div>"
      ],
      "text/plain": [
       "   Unnamed: 0  id_x      pid_x  ms_subclass_x ms_zoning  lot_area_x street  \\\n",
       "0           0   109  533352170             60        RL       13517   Pave   \n",
       "1           1   544  531379050             60        RL       11492   Pave   \n",
       "\n",
       "  lot_shape land_contour utilities  ... paved_drive_Y sale_type_COD  \\\n",
       "0       IR1          Lvl    AllPub  ...             1             0   \n",
       "1       IR1          Lvl    AllPub  ...             1             0   \n",
       "\n",
       "  sale_type_CWD sale_type_Con sale_type_ConLD sale_type_ConLI sale_type_ConLw  \\\n",
       "0             0             0               0               0               0   \n",
       "1             0             0               0               0               0   \n",
       "\n",
       "   sale_type_New  sale_type_Oth  sale_type_WD   \n",
       "0              0              0              1  \n",
       "1              0              0              1  \n",
       "\n",
       "[2 rows x 347 columns]"
      ]
     },
     "execution_count": 2228,
     "metadata": {},
     "output_type": "execute_result"
    }
   ],
   "source": [
    "train_df.head(2)"
   ]
  },
  {
   "cell_type": "markdown",
   "metadata": {},
   "source": [
    "### Upon examining the head, I realize that I need to drop the Unnamed 0 column"
   ]
  },
  {
   "cell_type": "code",
   "execution_count": 2229,
   "metadata": {},
   "outputs": [],
   "source": [
    "train_df = train_df.drop(columns=['Unnamed: 0'])"
   ]
  },
  {
   "cell_type": "markdown",
   "metadata": {},
   "source": [
    "## Creating features matrix (X) and target vector (y)"
   ]
  },
  {
   "cell_type": "code",
   "execution_count": 2230,
   "metadata": {},
   "outputs": [],
   "source": [
    "features = ['overall_qual_x','gr_liv_area_x', 'garage_area_x', 'garage_cars_x', \n",
    "            'total_bsmt_sf_x', '1st_flr_sf_x', 'year_built_x', 'year_remod/add_x', \n",
    "            'full_bath_x', 'garage_yr_blt_x', 'mas_vnr_area_x', 'totrms_abvgrd_x', \n",
    "            'fireplaces_x', 'ms_subclass_x', 'open_porch_sf_x', 'wood_deck_sf_x', \n",
    "            'lot_area_x', 'bsmt_full_bath_x', 'half_bath_x', '2nd_flr_sf_x', 'bsmt_unf_sf_x',\n",
    "            'bedroom_abvgr_x', 'screen_porch_x', 'overall_cond_x']"
   ]
  },
  {
   "cell_type": "code",
   "execution_count": 2231,
   "metadata": {},
   "outputs": [],
   "source": [
    "X = train_df[features]\n",
    "y = train_df['saleprice_x']"
   ]
  },
  {
   "cell_type": "code",
   "execution_count": 2232,
   "metadata": {},
   "outputs": [
    {
     "data": {
      "text/plain": [
       "(2049, 24)"
      ]
     },
     "execution_count": 2232,
     "metadata": {},
     "output_type": "execute_result"
    }
   ],
   "source": [
    "X.shape"
   ]
  },
  {
   "cell_type": "markdown",
   "metadata": {},
   "source": [
    "## Creating the Train Test Split Function"
   ]
  },
  {
   "cell_type": "code",
   "execution_count": 2233,
   "metadata": {},
   "outputs": [],
   "source": [
    "X_train, X_test, y_train, y_test = train_test_split(X, y, random_state=15)"
   ]
  },
  {
   "cell_type": "markdown",
   "metadata": {},
   "source": [
    "## Instantiating and Fitting the Model with Linear Regression"
   ]
  },
  {
   "cell_type": "code",
   "execution_count": 2234,
   "metadata": {},
   "outputs": [
    {
     "data": {
      "text/plain": [
       "LinearRegression(copy_X=True, fit_intercept=True, n_jobs=None, normalize=False)"
      ]
     },
     "execution_count": 2234,
     "metadata": {},
     "output_type": "execute_result"
    }
   ],
   "source": [
    "lr_full = LinearRegression() # instantiating model\n",
    "lr_full.fit(X_train, y_train) # fitting the model"
   ]
  },
  {
   "cell_type": "markdown",
   "metadata": {},
   "source": [
    "## Evaluating model using Train score and K-Fold Cross Validation"
   ]
  },
  {
   "cell_type": "code",
   "execution_count": 2235,
   "metadata": {},
   "outputs": [
    {
     "data": {
      "text/plain": [
       "0.8690808199717474"
      ]
     },
     "execution_count": 2235,
     "metadata": {},
     "output_type": "execute_result"
    }
   ],
   "source": [
    "# Train score, default score is R2\n",
    "train_full_r2 = lr_full.score(X_train, y_train)\n",
    "train_full_r2"
   ]
  },
  {
   "cell_type": "code",
   "execution_count": 2236,
   "metadata": {},
   "outputs": [
    {
     "data": {
      "text/plain": [
       "0.8803783314037719"
      ]
     },
     "execution_count": 2236,
     "metadata": {},
     "output_type": "execute_result"
    }
   ],
   "source": [
    "# Test score\n",
    "test_full_r2 = lr_full.score(X_test, y_test)\n",
    "test_full_r2"
   ]
  },
  {
   "cell_type": "code",
   "execution_count": 2237,
   "metadata": {},
   "outputs": [
    {
     "data": {
      "text/plain": [
       "0.8609728666964674"
      ]
     },
     "execution_count": 2237,
     "metadata": {},
     "output_type": "execute_result"
    }
   ],
   "source": [
    "# Cross Val Score\n",
    "cv_full_r2 = cross_val_score(lr_full, X_train, y_train, cv=5).mean()\n",
    "cv_full_r2"
   ]
  },
  {
   "cell_type": "markdown",
   "metadata": {},
   "source": [
    "### Train and cross val R2 scores are around 0.86, whereas the test score is 0.88.  This means that our model is slightly underfit\n",
    "***\n",
    "### Evaluating RMSE scores for train and test."
   ]
  },
  {
   "cell_type": "code",
   "execution_count": 2238,
   "metadata": {},
   "outputs": [],
   "source": [
    "predictions_full_train = lr_full.predict(X_train)"
   ]
  },
  {
   "cell_type": "code",
   "execution_count": 2239,
   "metadata": {},
   "outputs": [],
   "source": [
    "predictions_full_test = lr_full.predict(X_test)"
   ]
  },
  {
   "cell_type": "code",
   "execution_count": 2240,
   "metadata": {},
   "outputs": [
    {
     "data": {
      "text/plain": [
       "29222.926156267815"
      ]
     },
     "execution_count": 2240,
     "metadata": {},
     "output_type": "execute_result"
    }
   ],
   "source": [
    "# RMSE\n",
    "train_full_rmse = np.sqrt(mean_squared_error(y_train, predictions_full_train))\n",
    "train_full_rmse"
   ]
  },
  {
   "cell_type": "code",
   "execution_count": 2241,
   "metadata": {},
   "outputs": [
    {
     "data": {
      "text/plain": [
       "25792.14448028733"
      ]
     },
     "execution_count": 2241,
     "metadata": {},
     "output_type": "execute_result"
    }
   ],
   "source": [
    "# RMSE\n",
    "test_full_rmse = np.sqrt(mean_squared_error(y_test, predictions_full_test))\n",
    "test_full_rmse"
   ]
  },
  {
   "cell_type": "markdown",
   "metadata": {},
   "source": [
    "### Train RMSE score was 29222, whereas test RMSE score was 25792.  Further evidence that the model is underfit.\n",
    "***\n",
    "### Want to get a sense of how my current model appears on a plot of predicted vs. actual values"
   ]
  },
  {
   "cell_type": "markdown",
   "metadata": {},
   "source": [
    "## Plotting Predicted Values vs. Actual Values"
   ]
  },
  {
   "cell_type": "code",
   "execution_count": 2242,
   "metadata": {},
   "outputs": [],
   "source": [
    "y_preds_full = lr_full.predict(X)"
   ]
  },
  {
   "cell_type": "code",
   "execution_count": 2243,
   "metadata": {},
   "outputs": [
    {
     "data": {
      "image/png": "[encoded data removed]",
      "text/plain": [
       "<Figure size 864x576 with 1 Axes>"
      ]
     },
     "metadata": {
      "needs_background": "light"
     },
     "output_type": "display_data"
    }
   ],
   "source": [
    "# Plot the model\n",
    "plt.figure(figsize=(12,8))\n",
    "\n",
    "# Generate a scatterplot of predicted values versus actual values.\n",
    "plt.scatter(y_preds_full, y, s=5, color='skyblue', alpha = 0.5)\n",
    "\n",
    "# Plot a line.\n",
    "plt.plot([0, np.max(y)],\n",
    "         [0, np.max(y)],\n",
    "         color = 'black')\n",
    "\n",
    "# Tweak title and axis labels.\n",
    "plt.xlabel(\"Predicted Values: $\\hat{y}$\", fontsize = 20)\n",
    "plt.ylabel(\"Actual Values: $y$\", fontsize = 20)\n",
    "plt.title('Predicted Values vs. Actual Values', fontsize = 24);"
   ]
  },
  {
   "cell_type": "markdown",
   "metadata": {},
   "source": [
    "### It looks like the data forms an x^2 curve and the line is not fitting to the data in a linear fashion.\n",
    "***\n",
    "### Creating a new model with less features to see if it fits better"
   ]
  },
  {
   "cell_type": "markdown",
   "metadata": {},
   "source": [
    "## Minimized Features Model\n",
    "***\n",
    "### Creating features matrix (X) and target vector (y)"
   ]
  },
  {
   "cell_type": "code",
   "execution_count": 2244,
   "metadata": {},
   "outputs": [],
   "source": [
    "features_min= ['overall_qual_x','gr_liv_area_x', 'garage_area_x', 'garage_cars_x', \n",
    "            'total_bsmt_sf_x', '1st_flr_sf_x', 'year_built_x', 'year_remod/add_x', \n",
    "            'garage_yr_blt_x', 'totrms_abvgrd_x', \n",
    "            'fireplaces_x', 'ms_subclass_x', 'wood_deck_sf_x', \n",
    "            'lot_area_x', 'bsmt_full_bath_x', 'half_bath_x', '2nd_flr_sf_x', 'bsmt_unf_sf_x',\n",
    "            'bedroom_abvgr_x', 'screen_porch_x', 'overall_cond_x']"
   ]
  },
  {
   "cell_type": "code",
   "execution_count": 2245,
   "metadata": {},
   "outputs": [],
   "source": [
    "X = train_df[features_min]\n",
    "y = train_df['saleprice_x']"
   ]
  },
  {
   "cell_type": "code",
   "execution_count": 2246,
   "metadata": {},
   "outputs": [
    {
     "data": {
      "text/plain": [
       "(2049, 21)"
      ]
     },
     "execution_count": 2246,
     "metadata": {},
     "output_type": "execute_result"
    }
   ],
   "source": [
    "X.shape"
   ]
  },
  {
   "cell_type": "markdown",
   "metadata": {},
   "source": [
    "### Creating the Train Test Split Function"
   ]
  },
  {
   "cell_type": "code",
   "execution_count": 2247,
   "metadata": {},
   "outputs": [],
   "source": [
    "X_train, X_test, y_train, y_test = train_test_split(X, y, random_state=15)"
   ]
  },
  {
   "cell_type": "markdown",
   "metadata": {},
   "source": [
    "### Instantiating and Fitting the Model with Linear Regression"
   ]
  },
  {
   "cell_type": "code",
   "execution_count": 2248,
   "metadata": {},
   "outputs": [
    {
     "data": {
      "text/plain": [
       "LinearRegression(copy_X=True, fit_intercept=True, n_jobs=None, normalize=False)"
      ]
     },
     "execution_count": 2248,
     "metadata": {},
     "output_type": "execute_result"
    }
   ],
   "source": [
    "lr_min = LinearRegression() # instantiating model\n",
    "lr_min.fit(X_train, y_train) # fitting the model"
   ]
  },
  {
   "cell_type": "markdown",
   "metadata": {},
   "source": [
    "### Evaluating model using Train score and K-Fold Cross Validation"
   ]
  },
  {
   "cell_type": "code",
   "execution_count": 2249,
   "metadata": {},
   "outputs": [
    {
     "data": {
      "text/plain": [
       "0.8649809042558907"
      ]
     },
     "execution_count": 2249,
     "metadata": {},
     "output_type": "execute_result"
    }
   ],
   "source": [
    "# Train score, default score is R2\n",
    "train_min_r2 = lr_min.score(X_train, y_train)\n",
    "train_min_r2"
   ]
  },
  {
   "cell_type": "code",
   "execution_count": 2250,
   "metadata": {},
   "outputs": [
    {
     "data": {
      "text/plain": [
       "0.8714269194271487"
      ]
     },
     "execution_count": 2250,
     "metadata": {},
     "output_type": "execute_result"
    }
   ],
   "source": [
    "# Test score\n",
    "test_min_r2 = lr_min.score(X_test, y_test)\n",
    "test_min_r2"
   ]
  },
  {
   "cell_type": "code",
   "execution_count": 2251,
   "metadata": {},
   "outputs": [
    {
     "data": {
      "text/plain": [
       "0.8582252253113897"
      ]
     },
     "execution_count": 2251,
     "metadata": {},
     "output_type": "execute_result"
    }
   ],
   "source": [
    "# Cross Val Score\n",
    "cv_min_2 = cross_val_score(lr_min, X_train, y_train, cv=5).mean()\n",
    "cv_min_2"
   ]
  },
  {
   "cell_type": "markdown",
   "metadata": {},
   "source": [
    "### This model seems to be slightly less underfit than the previous model, but still not nearly as good of an R2 score as I would like to get\n",
    "***\n",
    "### Evaluating RMSE scores for train and test"
   ]
  },
  {
   "cell_type": "code",
   "execution_count": 2252,
   "metadata": {},
   "outputs": [],
   "source": [
    "predictions_min_train = lr_min.predict(X_train)"
   ]
  },
  {
   "cell_type": "code",
   "execution_count": 2253,
   "metadata": {},
   "outputs": [],
   "source": [
    "predictions_min_test = lr_min.predict(X_test)"
   ]
  },
  {
   "cell_type": "code",
   "execution_count": 2254,
   "metadata": {},
   "outputs": [
    {
     "data": {
      "text/plain": [
       "29676.97698521587"
      ]
     },
     "execution_count": 2254,
     "metadata": {},
     "output_type": "execute_result"
    }
   ],
   "source": [
    "# RMSE\n",
    "train_min_rmse = np.sqrt(mean_squared_error(y_train, predictions_min_train))\n",
    "train_min_rmse"
   ]
  },
  {
   "cell_type": "code",
   "execution_count": 2255,
   "metadata": {},
   "outputs": [
    {
     "data": {
      "text/plain": [
       "26739.762752971157"
      ]
     },
     "execution_count": 2255,
     "metadata": {},
     "output_type": "execute_result"
    }
   ],
   "source": [
    "# RMSE\n",
    "test_min_rmse = np.sqrt(mean_squared_error(y_test, predictions_min_test))\n",
    "test_min_rmse"
   ]
  },
  {
   "cell_type": "markdown",
   "metadata": {},
   "source": [
    "### Slightly better than the previous model, but I know we can do better\n",
    "***\n",
    "### Plotting the predicted vs. actual values of the minimized features model"
   ]
  },
  {
   "cell_type": "code",
   "execution_count": 2256,
   "metadata": {},
   "outputs": [],
   "source": [
    "y_preds_min = lr_min.predict(X)"
   ]
  },
  {
   "cell_type": "code",
   "execution_count": 2257,
   "metadata": {},
   "outputs": [
    {
     "data": {
      "image/png": "[encoded data removed]",
      "text/plain": [
       "<Figure size 864x576 with 1 Axes>"
      ]
     },
     "metadata": {
      "needs_background": "light"
     },
     "output_type": "display_data"
    }
   ],
   "source": [
    "# Plot the model\n",
    "plt.figure(figsize=(12,8))\n",
    "\n",
    "# Generate a scatterplot of predicted values versus actual values.\n",
    "plt.scatter(y_preds_min, y, s=5, color='skyblue', alpha = 0.5)\n",
    "\n",
    "# Plot a line.\n",
    "plt.plot([0, np.max(y)],\n",
    "         [0, np.max(y)],\n",
    "         color = 'black')\n",
    "\n",
    "# Tweak title and axis labels.\n",
    "plt.xlabel(\"Predicted Values: $\\hat{y}$\", fontsize = 20)\n",
    "plt.ylabel(\"Actual Values: $y$\", fontsize = 20)\n",
    "plt.title('Predicted Values vs. Actual Values', fontsize = 24);"
   ]
  },
  {
   "cell_type": "markdown",
   "metadata": {},
   "source": [
    "### Not so enthusiastic about this plot.  Like the last plot, as sale price increases the model gets increasingly worse at making good predictions.  There is clearly heteroscedasticity.\n",
    "***\n",
    "### Going to try using the y_log method on y_train, and y_test"
   ]
  },
  {
   "cell_type": "markdown",
   "metadata": {},
   "source": [
    "## Y_train_log, Y_test_log Model with Features"
   ]
  },
  {
   "cell_type": "code",
   "execution_count": 2258,
   "metadata": {},
   "outputs": [
    {
     "data": {
      "text/plain": [
       "<matplotlib.axes._subplots.AxesSubplot at 0x1c4c94ca50>"
      ]
     },
     "execution_count": 2258,
     "metadata": {},
     "output_type": "execute_result"
    },
    {
     "data": {
      "image/png": "[encoded data removed]",
      "text/plain": [
       "<Figure size 432x288 with 1 Axes>"
      ]
     },
     "metadata": {
      "needs_background": "light"
     },
     "output_type": "display_data"
    }
   ],
   "source": [
    "train_df['saleprice_x'].hist()"
   ]
  },
  {
   "cell_type": "markdown",
   "metadata": {},
   "source": [
    "### The plot above is a histogram of the model before the appropriation of log.  We can see a right skew.\n",
    "***\n",
    "### Below is the same plot after applying np.log to our y variable, saleprice"
   ]
  },
  {
   "cell_type": "code",
   "execution_count": 2261,
   "metadata": {},
   "outputs": [
    {
     "data": {
      "text/plain": [
       "<matplotlib.axes._subplots.AxesSubplot at 0x1c4c301d90>"
      ]
     },
     "execution_count": 2261,
     "metadata": {},
     "output_type": "execute_result"
    },
    {
     "data": {
      "image/png": "[encoded data removed]",
      "text/plain": [
       "<Figure size 432x288 with 1 Axes>"
      ]
     },
     "metadata": {
      "needs_background": "light"
     },
     "output_type": "display_data"
    }
   ],
   "source": [
    "train_df['saleprice_x'].map(np.log).hist()"
   ]
  },
  {
   "cell_type": "markdown",
   "metadata": {},
   "source": [
    "### The distribution appears to have been normalized\n",
    "***\n",
    "### Creating features matrix (X) and target vector (y).map(np.log)"
   ]
  },
  {
   "cell_type": "code",
   "execution_count": 2322,
   "metadata": {},
   "outputs": [],
   "source": [
    "X = train_df[features]\n",
    "y = train_df['saleprice_y'].map(np.log)"
   ]
  },
  {
   "cell_type": "code",
   "execution_count": 2323,
   "metadata": {},
   "outputs": [
    {
     "data": {
      "text/plain": [
       "611657"
      ]
     },
     "execution_count": 2323,
     "metadata": {},
     "output_type": "execute_result"
    }
   ],
   "source": [
    "train_df['saleprice_x'].max()"
   ]
  },
  {
   "cell_type": "markdown",
   "metadata": {},
   "source": [
    "### Creating the Train Test Split Function"
   ]
  },
  {
   "cell_type": "code",
   "execution_count": 2324,
   "metadata": {},
   "outputs": [],
   "source": [
    "X_train, X_test, y_train, y_test, = train_test_split(X, y, random_state=15)"
   ]
  },
  {
   "cell_type": "code",
   "execution_count": 2325,
   "metadata": {},
   "outputs": [],
   "source": [
    "#y_train_log = y_train.map(np.log)\n",
    "#y_test_log = y_test.map(np.log)"
   ]
  },
  {
   "cell_type": "markdown",
   "metadata": {},
   "source": [
    "### Instantiating and Fitting the Model with Linear Regression"
   ]
  },
  {
   "cell_type": "code",
   "execution_count": 2326,
   "metadata": {},
   "outputs": [],
   "source": [
    "lr_log = LinearRegression() # instantiating model"
   ]
  },
  {
   "cell_type": "code",
   "execution_count": 2327,
   "metadata": {},
   "outputs": [
    {
     "data": {
      "text/plain": [
       "LinearRegression(copy_X=True, fit_intercept=True, n_jobs=None, normalize=False)"
      ]
     },
     "execution_count": 2327,
     "metadata": {},
     "output_type": "execute_result"
    }
   ],
   "source": [
    "lr_log.fit(X_train, y_train) # fitting the model"
   ]
  },
  {
   "cell_type": "markdown",
   "metadata": {},
   "source": [
    "### Evaluating model using Train score and K-Fold Cross Validation"
   ]
  },
  {
   "cell_type": "code",
   "execution_count": 2328,
   "metadata": {},
   "outputs": [
    {
     "data": {
      "text/plain": [
       "0.8904781498799405"
      ]
     },
     "execution_count": 2328,
     "metadata": {},
     "output_type": "execute_result"
    }
   ],
   "source": [
    "# Train score, default score is R2\n",
    "train_log_r2 = lr_log.score(X_train, y_train)\n",
    "train_log_r2"
   ]
  },
  {
   "cell_type": "code",
   "execution_count": 2329,
   "metadata": {},
   "outputs": [
    {
     "data": {
      "text/plain": [
       "0.9071089306977916"
      ]
     },
     "execution_count": 2329,
     "metadata": {},
     "output_type": "execute_result"
    }
   ],
   "source": [
    "# Test score\n",
    "test_log_r2 = lr_log.score(X_test, y_test)\n",
    "test_log_r2"
   ]
  },
  {
   "cell_type": "code",
   "execution_count": 2330,
   "metadata": {},
   "outputs": [
    {
     "data": {
      "text/plain": [
       "0.8851921839250643"
      ]
     },
     "execution_count": 2330,
     "metadata": {},
     "output_type": "execute_result"
    }
   ],
   "source": [
    "cv_log_r2 = cross_val_score(lr_log, X_train, y_train, cv=5).mean()\n",
    "cv_log_r2"
   ]
  },
  {
   "cell_type": "markdown",
   "metadata": {},
   "source": [
    "### Improvement in R2 score for the log model, still slightly undefit, but the degree is less now\n",
    "***\n",
    "### Evaluating RMSE scores for train and test"
   ]
  },
  {
   "cell_type": "code",
   "execution_count": 2331,
   "metadata": {},
   "outputs": [],
   "source": [
    "predictions_log_train = lr_log.predict(X_train)"
   ]
  },
  {
   "cell_type": "code",
   "execution_count": 2332,
   "metadata": {},
   "outputs": [],
   "source": [
    "predictions_log_test = lr_log.predict(X_test)"
   ]
  },
  {
   "cell_type": "code",
   "execution_count": 2333,
   "metadata": {},
   "outputs": [],
   "source": [
    "predictions_in_original_units_train = np.exp(predictions_log_train)"
   ]
  },
  {
   "cell_type": "code",
   "execution_count": 2334,
   "metadata": {},
   "outputs": [],
   "source": [
    "predictions_in_original_units_test = np.exp(predictions_log_test)"
   ]
  },
  {
   "cell_type": "code",
   "execution_count": 2335,
   "metadata": {},
   "outputs": [
    {
     "data": {
      "text/plain": [
       "197099.32650640002"
      ]
     },
     "execution_count": 2335,
     "metadata": {},
     "output_type": "execute_result"
    }
   ],
   "source": [
    "# RMSE\n",
    "train_log_rmse = np.sqrt(mean_squared_error(y_train, predictions_in_original_units_train))\n",
    "train_log_rmse"
   ]
  },
  {
   "cell_type": "code",
   "execution_count": 2342,
   "metadata": {},
   "outputs": [
    {
     "data": {
      "text/plain": [
       "191468.59749212302"
      ]
     },
     "execution_count": 2342,
     "metadata": {},
     "output_type": "execute_result"
    }
   ],
   "source": [
    "# RMSE\n",
    "test_log_rmse = np.sqrt(mean_squared_error(y_test, predictions_in_original_units_test))\n",
    "test_log_rmse"
   ]
  },
  {
   "cell_type": "markdown",
   "metadata": {},
   "source": [
    "### My understanding is that log creates RMSE values that are beyond what we would expect, so we cannot use the log model rmse value as a score to assess by.\n",
    "***\n",
    "### Going to plot predicted vs. actual values of y for the log model"
   ]
  },
  {
   "cell_type": "code",
   "execution_count": 2343,
   "metadata": {},
   "outputs": [],
   "source": [
    "y_preds_log = lr_log.predict(X)"
   ]
  },
  {
   "cell_type": "code",
   "execution_count": 2344,
   "metadata": {},
   "outputs": [
    {
     "data": {
      "text/plain": [
       "(2049,)"
      ]
     },
     "execution_count": 2344,
     "metadata": {},
     "output_type": "execute_result"
    }
   ],
   "source": [
    "y_preds_log.shape"
   ]
  },
  {
   "cell_type": "code",
   "execution_count": 2345,
   "metadata": {},
   "outputs": [
    {
     "data": {
      "text/plain": [
       "13.317895296247034"
      ]
     },
     "execution_count": 2345,
     "metadata": {},
     "output_type": "execute_result"
    }
   ],
   "source": [
    "y_preds_log.max()"
   ]
  },
  {
   "cell_type": "code",
   "execution_count": 2346,
   "metadata": {},
   "outputs": [
    {
     "data": {
      "image/png": "[encoded data removed]",
      "text/plain": [
       "<Figure size 864x576 with 1 Axes>"
      ]
     },
     "metadata": {
      "needs_background": "light"
     },
     "output_type": "display_data"
    }
   ],
   "source": [
    "# Plot the model\n",
    "plt.figure(figsize=(12,8))\n",
    "\n",
    "# Generate a scatterplot of predicted values versus actual values.\n",
    "plt.scatter(y_preds_log, y, s=5, color='skyblue', alpha = 0.5)\n",
    "\n",
    "# Plot a line.\n",
    "plt.plot([10.25, np.max(y)],\n",
    "         [10.25, np.max(y)],\n",
    "         color = 'black')\n",
    "\n",
    "# Tweak title and axis labels.\n",
    "plt.xlabel(\"Predicted Values: $\\hat{y}$\", fontsize = 20)\n",
    "plt.ylabel(\"Actual Values: $y$\", fontsize = 20)\n",
    "plt.title('Predicted Values vs. Actual Values', fontsize = 24);"
   ]
  },
  {
   "cell_type": "markdown",
   "metadata": {},
   "source": [
    "### Beautiful plot, very linear.  Of the 3 plots in this notebook, this is by far the best."
   ]
  },
  {
   "cell_type": "markdown",
   "metadata": {},
   "source": [
    "***\n",
    "### Creating a table to display model comparison values for train R2, test R2, train RMSE, and test RMSE of the the 3 versions of my model thus far."
   ]
  },
  {
   "cell_type": "code",
   "execution_count": null,
   "metadata": {},
   "outputs": [],
   "source": [
    "#table = pd.read_csv('../datasets/model_comparisons_table.csv', index_col = [0])"
   ]
  },
  {
   "cell_type": "code",
   "execution_count": null,
   "metadata": {},
   "outputs": [],
   "source": [
    "#table = table.drop('log_full_features_MLR', axis=1)\n",
    "table"
   ]
  },
  {
   "cell_type": "code",
   "execution_count": null,
   "metadata": {},
   "outputs": [],
   "source": [
    "#table['log_full_features_MLR'] = [train_log_r2, test_log_r2, train_log_rmse, test_log_rmse]"
   ]
  },
  {
   "cell_type": "markdown",
   "metadata": {},
   "source": [
    "### Saving table as a csv to open up in lasso and ridge models"
   ]
  },
  {
   "cell_type": "code",
   "execution_count": null,
   "metadata": {},
   "outputs": [],
   "source": [
    "#table.to_csv('../datasets/model_comparisons_table.csv')"
   ]
  },
  {
   "cell_type": "markdown",
   "metadata": {},
   "source": [
    "## Stats Model Summary for Log Model"
   ]
  },
  {
   "cell_type": "code",
   "execution_count": 2348,
   "metadata": {},
   "outputs": [
    {
     "name": "stderr",
     "output_type": "stream",
     "text": [
      "/opt/anaconda3/lib/python3.7/site-packages/ipykernel_launcher.py:1: SettingWithCopyWarning: \n",
      "A value is trying to be set on a copy of a slice from a DataFrame.\n",
      "Try using .loc[row_indexer,col_indexer] = value instead\n",
      "\n",
      "See the caveats in the documentation: http://pandas.pydata.org/pandas-docs/stable/user_guide/indexing.html#returning-a-view-versus-a-copy\n",
      "  \"\"\"Entry point for launching an IPython kernel.\n"
     ]
    }
   ],
   "source": [
    "X['intercept'] = 1"
   ]
  },
  {
   "cell_type": "code",
   "execution_count": 2349,
   "metadata": {},
   "outputs": [],
   "source": [
    "import statsmodels.api as sm\n",
    "model = sm.OLS(y,X).fit()"
   ]
  },
  {
   "cell_type": "code",
   "execution_count": 2350,
   "metadata": {},
   "outputs": [
    {
     "data": {
      "text/html": [
       "<table class=\"simpletable\">\n",
       "<caption>OLS Regression Results</caption>\n",
       "<tr>\n",
       "  <th>Dep. Variable:</th>       <td>saleprice_y</td>   <th>  R-squared:         </th> <td>   0.895</td>\n",
       "</tr>\n",
       "<tr>\n",
       "  <th>Model:</th>                   <td>OLS</td>       <th>  Adj. R-squared:    </th> <td>   0.894</td>\n",
       "</tr>\n",
       "<tr>\n",
       "  <th>Method:</th>             <td>Least Squares</td>  <th>  F-statistic:       </th> <td>   719.2</td>\n",
       "</tr>\n",
       "<tr>\n",
       "  <th>Date:</th>             <td>Sun, 19 Jan 2020</td> <th>  Prob (F-statistic):</th>  <td>  0.00</td> \n",
       "</tr>\n",
       "<tr>\n",
       "  <th>Time:</th>                 <td>23:25:24</td>     <th>  Log-Likelihood:    </th> <td>  1221.9</td>\n",
       "</tr>\n",
       "<tr>\n",
       "  <th>No. Observations:</th>      <td>  2049</td>      <th>  AIC:               </th> <td>  -2394.</td>\n",
       "</tr>\n",
       "<tr>\n",
       "  <th>Df Residuals:</th>          <td>  2024</td>      <th>  BIC:               </th> <td>  -2253.</td>\n",
       "</tr>\n",
       "<tr>\n",
       "  <th>Df Model:</th>              <td>    24</td>      <th>                     </th>     <td> </td>   \n",
       "</tr>\n",
       "<tr>\n",
       "  <th>Covariance Type:</th>      <td>nonrobust</td>    <th>                     </th>     <td> </td>   \n",
       "</tr>\n",
       "</table>\n",
       "<table class=\"simpletable\">\n",
       "<tr>\n",
       "          <td></td>            <th>coef</th>     <th>std err</th>      <th>t</th>      <th>P>|t|</th>  <th>[0.025</th>    <th>0.975]</th>  \n",
       "</tr>\n",
       "<tr>\n",
       "  <th>overall_qual_x</th>   <td>    0.0876</td> <td>    0.004</td> <td>   23.814</td> <td> 0.000</td> <td>    0.080</td> <td>    0.095</td>\n",
       "</tr>\n",
       "<tr>\n",
       "  <th>gr_liv_area_x</th>    <td>    0.0002</td> <td> 6.07e-05</td> <td>    2.677</td> <td> 0.007</td> <td> 4.34e-05</td> <td>    0.000</td>\n",
       "</tr>\n",
       "<tr>\n",
       "  <th>garage_area_x</th>    <td> 6.357e-05</td> <td> 3.37e-05</td> <td>    1.886</td> <td> 0.059</td> <td>-2.52e-06</td> <td>    0.000</td>\n",
       "</tr>\n",
       "<tr>\n",
       "  <th>garage_cars_x</th>    <td>    0.0242</td> <td>    0.010</td> <td>    2.523</td> <td> 0.012</td> <td>    0.005</td> <td>    0.043</td>\n",
       "</tr>\n",
       "<tr>\n",
       "  <th>total_bsmt_sf_x</th>  <td>    0.0002</td> <td> 1.46e-05</td> <td>   12.741</td> <td> 0.000</td> <td>    0.000</td> <td>    0.000</td>\n",
       "</tr>\n",
       "<tr>\n",
       "  <th>1st_flr_sf_x</th>     <td>    0.0001</td> <td> 6.17e-05</td> <td>    1.709</td> <td> 0.088</td> <td>-1.56e-05</td> <td>    0.000</td>\n",
       "</tr>\n",
       "<tr>\n",
       "  <th>year_built_x</th>     <td>    0.0031</td> <td>    0.000</td> <td>   15.384</td> <td> 0.000</td> <td>    0.003</td> <td>    0.004</td>\n",
       "</tr>\n",
       "<tr>\n",
       "  <th>year_remod/add_x</th> <td>    0.0011</td> <td>    0.000</td> <td>    4.994</td> <td> 0.000</td> <td>    0.001</td> <td>    0.002</td>\n",
       "</tr>\n",
       "<tr>\n",
       "  <th>full_bath_x</th>      <td>   -0.0023</td> <td>    0.009</td> <td>   -0.258</td> <td> 0.796</td> <td>   -0.020</td> <td>    0.015</td>\n",
       "</tr>\n",
       "<tr>\n",
       "  <th>garage_yr_blt_x</th>  <td>    0.0003</td> <td>    0.000</td> <td>    1.496</td> <td> 0.135</td> <td>-9.92e-05</td> <td>    0.001</td>\n",
       "</tr>\n",
       "<tr>\n",
       "  <th>mas_vnr_area_x</th>   <td> 5.625e-06</td> <td> 2.02e-05</td> <td>    0.278</td> <td> 0.781</td> <td> -3.4e-05</td> <td> 4.52e-05</td>\n",
       "</tr>\n",
       "<tr>\n",
       "  <th>totrms_abvgrd_x</th>  <td>    0.0070</td> <td>    0.004</td> <td>    1.818</td> <td> 0.069</td> <td>   -0.001</td> <td>    0.014</td>\n",
       "</tr>\n",
       "<tr>\n",
       "  <th>fireplaces_x</th>     <td>    0.0366</td> <td>    0.006</td> <td>    6.328</td> <td> 0.000</td> <td>    0.025</td> <td>    0.048</td>\n",
       "</tr>\n",
       "<tr>\n",
       "  <th>ms_subclass_x</th>    <td>   -0.0005</td> <td> 7.98e-05</td> <td>   -5.743</td> <td> 0.000</td> <td>   -0.001</td> <td>   -0.000</td>\n",
       "</tr>\n",
       "<tr>\n",
       "  <th>open_porch_sf_x</th>  <td> 2.818e-05</td> <td> 4.93e-05</td> <td>    0.572</td> <td> 0.567</td> <td>-6.84e-05</td> <td>    0.000</td>\n",
       "</tr>\n",
       "<tr>\n",
       "  <th>wood_deck_sf_x</th>   <td> 3.498e-05</td> <td> 2.54e-05</td> <td>    1.377</td> <td> 0.169</td> <td>-1.48e-05</td> <td> 8.48e-05</td>\n",
       "</tr>\n",
       "<tr>\n",
       "  <th>lot_area_x</th>       <td> 3.759e-06</td> <td> 5.13e-07</td> <td>    7.321</td> <td> 0.000</td> <td> 2.75e-06</td> <td> 4.77e-06</td>\n",
       "</tr>\n",
       "<tr>\n",
       "  <th>bsmt_full_bath_x</th> <td>    0.0265</td> <td>    0.008</td> <td>    3.315</td> <td> 0.001</td> <td>    0.011</td> <td>    0.042</td>\n",
       "</tr>\n",
       "<tr>\n",
       "  <th>half_bath_x</th>      <td>   -0.0069</td> <td>    0.009</td> <td>   -0.795</td> <td> 0.427</td> <td>   -0.024</td> <td>    0.010</td>\n",
       "</tr>\n",
       "<tr>\n",
       "  <th>2nd_flr_sf_x</th>     <td>    0.0001</td> <td> 6.08e-05</td> <td>    1.763</td> <td> 0.078</td> <td> -1.2e-05</td> <td>    0.000</td>\n",
       "</tr>\n",
       "<tr>\n",
       "  <th>bsmt_unf_sf_x</th>    <td>-7.652e-05</td> <td> 1.02e-05</td> <td>   -7.510</td> <td> 0.000</td> <td>-9.65e-05</td> <td>-5.65e-05</td>\n",
       "</tr>\n",
       "<tr>\n",
       "  <th>bedroom_abvgr_x</th>  <td>   -0.0096</td> <td>    0.005</td> <td>   -1.775</td> <td> 0.076</td> <td>   -0.020</td> <td>    0.001</td>\n",
       "</tr>\n",
       "<tr>\n",
       "  <th>screen_porch_x</th>   <td>    0.0003</td> <td> 5.36e-05</td> <td>    5.241</td> <td> 0.000</td> <td>    0.000</td> <td>    0.000</td>\n",
       "</tr>\n",
       "<tr>\n",
       "  <th>overall_cond_x</th>   <td>    0.0530</td> <td>    0.003</td> <td>   15.909</td> <td> 0.000</td> <td>    0.046</td> <td>    0.060</td>\n",
       "</tr>\n",
       "<tr>\n",
       "  <th>intercept</th>        <td>    1.4256</td> <td>    0.433</td> <td>    3.293</td> <td> 0.001</td> <td>    0.576</td> <td>    2.275</td>\n",
       "</tr>\n",
       "</table>\n",
       "<table class=\"simpletable\">\n",
       "<tr>\n",
       "  <th>Omnibus:</th>       <td>1223.974</td> <th>  Durbin-Watson:     </th> <td>   2.037</td> \n",
       "</tr>\n",
       "<tr>\n",
       "  <th>Prob(Omnibus):</th>  <td> 0.000</td>  <th>  Jarque-Bera (JB):  </th> <td>46358.362</td>\n",
       "</tr>\n",
       "<tr>\n",
       "  <th>Skew:</th>           <td>-2.202</td>  <th>  Prob(JB):          </th> <td>    0.00</td> \n",
       "</tr>\n",
       "<tr>\n",
       "  <th>Kurtosis:</th>       <td>25.882</td>  <th>  Cond. No.          </th> <td>1.83e+06</td> \n",
       "</tr>\n",
       "</table><br/><br/>Warnings:<br/>[1] Standard Errors assume that the covariance matrix of the errors is correctly specified.<br/>[2] The condition number is large, 1.83e+06. This might indicate that there are<br/>strong multicollinearity or other numerical problems."
      ],
      "text/plain": [
       "<class 'statsmodels.iolib.summary.Summary'>\n",
       "\"\"\"\n",
       "                            OLS Regression Results                            \n",
       "==============================================================================\n",
       "Dep. Variable:            saleprice_y   R-squared:                       0.895\n",
       "Model:                            OLS   Adj. R-squared:                  0.894\n",
       "Method:                 Least Squares   F-statistic:                     719.2\n",
       "Date:                Sun, 19 Jan 2020   Prob (F-statistic):               0.00\n",
       "Time:                        23:25:24   Log-Likelihood:                 1221.9\n",
       "No. Observations:                2049   AIC:                            -2394.\n",
       "Df Residuals:                    2024   BIC:                            -2253.\n",
       "Df Model:                          24                                         \n",
       "Covariance Type:            nonrobust                                         \n",
       "====================================================================================\n",
       "                       coef    std err          t      P>|t|      [0.025      0.975]\n",
       "------------------------------------------------------------------------------------\n",
       "overall_qual_x       0.0876      0.004     23.814      0.000       0.080       0.095\n",
       "gr_liv_area_x        0.0002   6.07e-05      2.677      0.007    4.34e-05       0.000\n",
       "garage_area_x     6.357e-05   3.37e-05      1.886      0.059   -2.52e-06       0.000\n",
       "garage_cars_x        0.0242      0.010      2.523      0.012       0.005       0.043\n",
       "total_bsmt_sf_x      0.0002   1.46e-05     12.741      0.000       0.000       0.000\n",
       "1st_flr_sf_x         0.0001   6.17e-05      1.709      0.088   -1.56e-05       0.000\n",
       "year_built_x         0.0031      0.000     15.384      0.000       0.003       0.004\n",
       "year_remod/add_x     0.0011      0.000      4.994      0.000       0.001       0.002\n",
       "full_bath_x         -0.0023      0.009     -0.258      0.796      -0.020       0.015\n",
       "garage_yr_blt_x      0.0003      0.000      1.496      0.135   -9.92e-05       0.001\n",
       "mas_vnr_area_x    5.625e-06   2.02e-05      0.278      0.781    -3.4e-05    4.52e-05\n",
       "totrms_abvgrd_x      0.0070      0.004      1.818      0.069      -0.001       0.014\n",
       "fireplaces_x         0.0366      0.006      6.328      0.000       0.025       0.048\n",
       "ms_subclass_x       -0.0005   7.98e-05     -5.743      0.000      -0.001      -0.000\n",
       "open_porch_sf_x   2.818e-05   4.93e-05      0.572      0.567   -6.84e-05       0.000\n",
       "wood_deck_sf_x    3.498e-05   2.54e-05      1.377      0.169   -1.48e-05    8.48e-05\n",
       "lot_area_x        3.759e-06   5.13e-07      7.321      0.000    2.75e-06    4.77e-06\n",
       "bsmt_full_bath_x     0.0265      0.008      3.315      0.001       0.011       0.042\n",
       "half_bath_x         -0.0069      0.009     -0.795      0.427      -0.024       0.010\n",
       "2nd_flr_sf_x         0.0001   6.08e-05      1.763      0.078    -1.2e-05       0.000\n",
       "bsmt_unf_sf_x    -7.652e-05   1.02e-05     -7.510      0.000   -9.65e-05   -5.65e-05\n",
       "bedroom_abvgr_x     -0.0096      0.005     -1.775      0.076      -0.020       0.001\n",
       "screen_porch_x       0.0003   5.36e-05      5.241      0.000       0.000       0.000\n",
       "overall_cond_x       0.0530      0.003     15.909      0.000       0.046       0.060\n",
       "intercept            1.4256      0.433      3.293      0.001       0.576       2.275\n",
       "==============================================================================\n",
       "Omnibus:                     1223.974   Durbin-Watson:                   2.037\n",
       "Prob(Omnibus):                  0.000   Jarque-Bera (JB):            46358.362\n",
       "Skew:                          -2.202   Prob(JB):                         0.00\n",
       "Kurtosis:                      25.882   Cond. No.                     1.83e+06\n",
       "==============================================================================\n",
       "\n",
       "Warnings:\n",
       "[1] Standard Errors assume that the covariance matrix of the errors is correctly specified.\n",
       "[2] The condition number is large, 1.83e+06. This might indicate that there are\n",
       "strong multicollinearity or other numerical problems.\n",
       "\"\"\""
      ]
     },
     "execution_count": 2350,
     "metadata": {},
     "output_type": "execute_result"
    }
   ],
   "source": [
    "model.summary()"
   ]
  },
  {
   "cell_type": "markdown",
   "metadata": {},
   "source": [
    "### Creating a featues dataframe with my x-variables to use for the ridge and lasso models"
   ]
  },
  {
   "cell_type": "code",
   "execution_count": null,
   "metadata": {},
   "outputs": [],
   "source": [
    "poly =      ['overall_qual_x','gr_liv_area_x', 'garage_area_x', 'garage_cars_x', \n",
    "            'total_bsmt_sf_x', '1st_flr_sf_x', 'year_built_x', 'year_remod/add_x', \n",
    "            'full_bath_x', 'garage_yr_blt_x', 'mas_vnr_area_x', 'totrms_abvgrd_x', \n",
    "            'fireplaces_x', 'ms_subclass_x', 'open_porch_sf_x', 'wood_deck_sf_x', \n",
    "            'lot_area_x', 'bsmt_full_bath_x', 'half_bath_x', '2nd_flr_sf_x', 'bsmt_unf_sf_x',\n",
    "            'bedroom_abvgr_x', 'screen_porch_x', 'overall_cond_x', 'saleprice_x']"
   ]
  },
  {
   "cell_type": "code",
   "execution_count": null,
   "metadata": {},
   "outputs": [],
   "source": [
    "poly_df = train_df[poly]"
   ]
  },
  {
   "cell_type": "code",
   "execution_count": null,
   "metadata": {},
   "outputs": [],
   "source": [
    "poly_df.to_csv('../datasets/polynomials_df.csv')"
   ]
  },
  {
   "cell_type": "code",
   "execution_count": null,
   "metadata": {},
   "outputs": [],
   "source": []
  }
 ],
 "metadata": {
  "kernelspec": {
   "display_name": "Python 3",
   "language": "python",
   "name": "python3"
  },
  "language_info": {
   "codemirror_mode": {
    "name": "ipython",
    "version": 3
   },
   "file_extension": ".py",
   "mimetype": "text/x-python",
   "name": "python",
   "nbconvert_exporter": "python",
   "pygments_lexer": "ipython3",
   "version": "3.7.4"
  }
 },
 "nbformat": 4,
 "nbformat_minor": 4
}
