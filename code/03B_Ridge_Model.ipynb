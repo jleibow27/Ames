{
 "cells": [
  {
   "cell_type": "markdown",
   "metadata": {},
   "source": [
    "# Ames Housing Notebook: 03B - Ridge Model\n",
    "***\n",
    "### Importing basline packages as well as scikit learn - linear_model, model_selection, metrics, and pre-processing packages"
   ]
  },
  {
   "cell_type": "code",
   "execution_count": 349,
   "metadata": {},
   "outputs": [],
   "source": [
    "import pandas as pd\n",
    "import numpy as np\n",
    "import seaborn as sns\n",
    "import matplotlib.pyplot as plt\n",
    "from sklearn.linear_model import LinearRegression, RidgeCV, LassoCV\n",
    "from sklearn.model_selection import train_test_split, cross_val_score\n",
    "from sklearn.metrics import mean_squared_error\n",
    "from sklearn.metrics import r2_score\n",
    "from sklearn.preprocessing import PolynomialFeatures\n",
    "from sklearn.preprocessing import StandardScaler\n",
    "\n",
    "%matplotlib inline"
   ]
  },
  {
   "cell_type": "markdown",
   "metadata": {},
   "source": [
    "### Reading in the polynomials csv I created at the end of the 03A_MLR_Model notebook "
   ]
  },
  {
   "cell_type": "code",
   "execution_count": 350,
   "metadata": {},
   "outputs": [],
   "source": [
    "poly_df = pd.read_csv('../datasets/polynomials_df.csv', index_col = [0])"
   ]
  },
  {
   "cell_type": "code",
   "execution_count": 351,
   "metadata": {},
   "outputs": [
    {
     "data": {
      "text/html": [
       "<div>\n",
       "<style scoped>\n",
       "    .dataframe tbody tr th:only-of-type {\n",
       "        vertical-align: middle;\n",
       "    }\n",
       "\n",
       "    .dataframe tbody tr th {\n",
       "        vertical-align: top;\n",
       "    }\n",
       "\n",
       "    .dataframe thead th {\n",
       "        text-align: right;\n",
       "    }\n",
       "</style>\n",
       "<table border=\"1\" class=\"dataframe\">\n",
       "  <thead>\n",
       "    <tr style=\"text-align: right;\">\n",
       "      <th></th>\n",
       "      <th>overall_qual_x</th>\n",
       "      <th>gr_liv_area_x</th>\n",
       "      <th>garage_area_x</th>\n",
       "      <th>garage_cars_x</th>\n",
       "      <th>total_bsmt_sf_x</th>\n",
       "      <th>1st_flr_sf_x</th>\n",
       "      <th>year_built_x</th>\n",
       "      <th>year_remod/add_x</th>\n",
       "      <th>full_bath_x</th>\n",
       "      <th>garage_yr_blt_x</th>\n",
       "      <th>...</th>\n",
       "      <th>wood_deck_sf_x</th>\n",
       "      <th>lot_area_x</th>\n",
       "      <th>bsmt_full_bath_x</th>\n",
       "      <th>half_bath_x</th>\n",
       "      <th>2nd_flr_sf_x</th>\n",
       "      <th>bsmt_unf_sf_x</th>\n",
       "      <th>bedroom_abvgr_x</th>\n",
       "      <th>screen_porch_x</th>\n",
       "      <th>overall_cond_x</th>\n",
       "      <th>saleprice_x</th>\n",
       "    </tr>\n",
       "  </thead>\n",
       "  <tbody>\n",
       "    <tr>\n",
       "      <th>0</th>\n",
       "      <td>6</td>\n",
       "      <td>1479</td>\n",
       "      <td>475.0</td>\n",
       "      <td>2.0</td>\n",
       "      <td>725.0</td>\n",
       "      <td>725</td>\n",
       "      <td>1976</td>\n",
       "      <td>2005</td>\n",
       "      <td>2</td>\n",
       "      <td>1976.0</td>\n",
       "      <td>...</td>\n",
       "      <td>0</td>\n",
       "      <td>13517</td>\n",
       "      <td>0.0</td>\n",
       "      <td>1</td>\n",
       "      <td>754</td>\n",
       "      <td>192.0</td>\n",
       "      <td>3</td>\n",
       "      <td>0</td>\n",
       "      <td>8</td>\n",
       "      <td>130500</td>\n",
       "    </tr>\n",
       "    <tr>\n",
       "      <th>1</th>\n",
       "      <td>7</td>\n",
       "      <td>2122</td>\n",
       "      <td>559.0</td>\n",
       "      <td>2.0</td>\n",
       "      <td>913.0</td>\n",
       "      <td>913</td>\n",
       "      <td>1996</td>\n",
       "      <td>1997</td>\n",
       "      <td>2</td>\n",
       "      <td>1997.0</td>\n",
       "      <td>...</td>\n",
       "      <td>0</td>\n",
       "      <td>11492</td>\n",
       "      <td>1.0</td>\n",
       "      <td>1</td>\n",
       "      <td>1209</td>\n",
       "      <td>276.0</td>\n",
       "      <td>4</td>\n",
       "      <td>0</td>\n",
       "      <td>5</td>\n",
       "      <td>220000</td>\n",
       "    </tr>\n",
       "  </tbody>\n",
       "</table>\n",
       "<p>2 rows × 25 columns</p>\n",
       "</div>"
      ],
      "text/plain": [
       "   overall_qual_x  gr_liv_area_x  garage_area_x  garage_cars_x  \\\n",
       "0               6           1479          475.0            2.0   \n",
       "1               7           2122          559.0            2.0   \n",
       "\n",
       "   total_bsmt_sf_x  1st_flr_sf_x  year_built_x  year_remod/add_x  full_bath_x  \\\n",
       "0            725.0           725          1976              2005            2   \n",
       "1            913.0           913          1996              1997            2   \n",
       "\n",
       "   garage_yr_blt_x  ...  wood_deck_sf_x  lot_area_x  bsmt_full_bath_x  \\\n",
       "0           1976.0  ...               0       13517               0.0   \n",
       "1           1997.0  ...               0       11492               1.0   \n",
       "\n",
       "   half_bath_x  2nd_flr_sf_x  bsmt_unf_sf_x  bedroom_abvgr_x  screen_porch_x  \\\n",
       "0            1           754          192.0                3               0   \n",
       "1            1          1209          276.0                4               0   \n",
       "\n",
       "   overall_cond_x  saleprice_x  \n",
       "0               8       130500  \n",
       "1               5       220000  \n",
       "\n",
       "[2 rows x 25 columns]"
      ]
     },
     "execution_count": 351,
     "metadata": {},
     "output_type": "execute_result"
    }
   ],
   "source": [
    "poly_df.head(2)"
   ]
  },
  {
   "cell_type": "markdown",
   "metadata": {},
   "source": [
    "### Creating features matrix (X) and target vector (y)"
   ]
  },
  {
   "cell_type": "code",
   "execution_count": 352,
   "metadata": {},
   "outputs": [],
   "source": [
    "X = poly_df.drop('saleprice_x', axis=1)\n",
    "y = poly_df['saleprice_x']"
   ]
  },
  {
   "cell_type": "markdown",
   "metadata": {},
   "source": [
    "### Instantiating PolynomialFeatures object to create all two-way terms."
   ]
  },
  {
   "cell_type": "code",
   "execution_count": 353,
   "metadata": {},
   "outputs": [],
   "source": [
    "# Instantiate PolynomialFeatures object to create all two-way terms.\n",
    "poly = PolynomialFeatures(degree=2, interaction_only=False, include_bias=False)"
   ]
  },
  {
   "cell_type": "markdown",
   "metadata": {},
   "source": [
    "### Fitting and transforming the X data."
   ]
  },
  {
   "cell_type": "code",
   "execution_count": 354,
   "metadata": {},
   "outputs": [],
   "source": [
    "# Fit and transform the X data.\n",
    "X_overfit = poly.fit_transform(X)"
   ]
  },
  {
   "cell_type": "markdown",
   "metadata": {},
   "source": [
    "### Using the get-feature-names method to see how poly.fit_transform(X) worked"
   ]
  },
  {
   "cell_type": "code",
   "execution_count": 355,
   "metadata": {},
   "outputs": [
    {
     "data": {
      "text/plain": [
       "['overall_qual_x',\n",
       " 'gr_liv_area_x',\n",
       " 'garage_area_x',\n",
       " 'garage_cars_x',\n",
       " 'total_bsmt_sf_x',\n",
       " '1st_flr_sf_x',\n",
       " 'year_built_x',\n",
       " 'year_remod/add_x',\n",
       " 'full_bath_x',\n",
       " 'garage_yr_blt_x',\n",
       " 'mas_vnr_area_x',\n",
       " 'totrms_abvgrd_x',\n",
       " 'fireplaces_x',\n",
       " 'ms_subclass_x',\n",
       " 'open_porch_sf_x',\n",
       " 'wood_deck_sf_x',\n",
       " 'lot_area_x',\n",
       " 'bsmt_full_bath_x',\n",
       " 'half_bath_x',\n",
       " '2nd_flr_sf_x',\n",
       " 'bsmt_unf_sf_x',\n",
       " 'bedroom_abvgr_x',\n",
       " 'screen_porch_x',\n",
       " 'overall_cond_x',\n",
       " 'overall_qual_x^2',\n",
       " 'overall_qual_x gr_liv_area_x',\n",
       " 'overall_qual_x garage_area_x',\n",
       " 'overall_qual_x garage_cars_x',\n",
       " 'overall_qual_x total_bsmt_sf_x',\n",
       " 'overall_qual_x 1st_flr_sf_x',\n",
       " 'overall_qual_x year_built_x',\n",
       " 'overall_qual_x year_remod/add_x',\n",
       " 'overall_qual_x full_bath_x',\n",
       " 'overall_qual_x garage_yr_blt_x',\n",
       " 'overall_qual_x mas_vnr_area_x',\n",
       " 'overall_qual_x totrms_abvgrd_x',\n",
       " 'overall_qual_x fireplaces_x',\n",
       " 'overall_qual_x ms_subclass_x',\n",
       " 'overall_qual_x open_porch_sf_x',\n",
       " 'overall_qual_x wood_deck_sf_x',\n",
       " 'overall_qual_x lot_area_x',\n",
       " 'overall_qual_x bsmt_full_bath_x',\n",
       " 'overall_qual_x half_bath_x',\n",
       " 'overall_qual_x 2nd_flr_sf_x',\n",
       " 'overall_qual_x bsmt_unf_sf_x',\n",
       " 'overall_qual_x bedroom_abvgr_x',\n",
       " 'overall_qual_x screen_porch_x',\n",
       " 'overall_qual_x overall_cond_x',\n",
       " 'gr_liv_area_x^2',\n",
       " 'gr_liv_area_x garage_area_x',\n",
       " 'gr_liv_area_x garage_cars_x',\n",
       " 'gr_liv_area_x total_bsmt_sf_x',\n",
       " 'gr_liv_area_x 1st_flr_sf_x',\n",
       " 'gr_liv_area_x year_built_x',\n",
       " 'gr_liv_area_x year_remod/add_x',\n",
       " 'gr_liv_area_x full_bath_x',\n",
       " 'gr_liv_area_x garage_yr_blt_x',\n",
       " 'gr_liv_area_x mas_vnr_area_x',\n",
       " 'gr_liv_area_x totrms_abvgrd_x',\n",
       " 'gr_liv_area_x fireplaces_x',\n",
       " 'gr_liv_area_x ms_subclass_x',\n",
       " 'gr_liv_area_x open_porch_sf_x',\n",
       " 'gr_liv_area_x wood_deck_sf_x',\n",
       " 'gr_liv_area_x lot_area_x',\n",
       " 'gr_liv_area_x bsmt_full_bath_x',\n",
       " 'gr_liv_area_x half_bath_x',\n",
       " 'gr_liv_area_x 2nd_flr_sf_x',\n",
       " 'gr_liv_area_x bsmt_unf_sf_x',\n",
       " 'gr_liv_area_x bedroom_abvgr_x',\n",
       " 'gr_liv_area_x screen_porch_x',\n",
       " 'gr_liv_area_x overall_cond_x',\n",
       " 'garage_area_x^2',\n",
       " 'garage_area_x garage_cars_x',\n",
       " 'garage_area_x total_bsmt_sf_x',\n",
       " 'garage_area_x 1st_flr_sf_x',\n",
       " 'garage_area_x year_built_x',\n",
       " 'garage_area_x year_remod/add_x',\n",
       " 'garage_area_x full_bath_x',\n",
       " 'garage_area_x garage_yr_blt_x',\n",
       " 'garage_area_x mas_vnr_area_x',\n",
       " 'garage_area_x totrms_abvgrd_x',\n",
       " 'garage_area_x fireplaces_x',\n",
       " 'garage_area_x ms_subclass_x',\n",
       " 'garage_area_x open_porch_sf_x',\n",
       " 'garage_area_x wood_deck_sf_x',\n",
       " 'garage_area_x lot_area_x',\n",
       " 'garage_area_x bsmt_full_bath_x',\n",
       " 'garage_area_x half_bath_x',\n",
       " 'garage_area_x 2nd_flr_sf_x',\n",
       " 'garage_area_x bsmt_unf_sf_x',\n",
       " 'garage_area_x bedroom_abvgr_x',\n",
       " 'garage_area_x screen_porch_x',\n",
       " 'garage_area_x overall_cond_x',\n",
       " 'garage_cars_x^2',\n",
       " 'garage_cars_x total_bsmt_sf_x',\n",
       " 'garage_cars_x 1st_flr_sf_x',\n",
       " 'garage_cars_x year_built_x',\n",
       " 'garage_cars_x year_remod/add_x',\n",
       " 'garage_cars_x full_bath_x',\n",
       " 'garage_cars_x garage_yr_blt_x',\n",
       " 'garage_cars_x mas_vnr_area_x',\n",
       " 'garage_cars_x totrms_abvgrd_x',\n",
       " 'garage_cars_x fireplaces_x',\n",
       " 'garage_cars_x ms_subclass_x',\n",
       " 'garage_cars_x open_porch_sf_x',\n",
       " 'garage_cars_x wood_deck_sf_x',\n",
       " 'garage_cars_x lot_area_x',\n",
       " 'garage_cars_x bsmt_full_bath_x',\n",
       " 'garage_cars_x half_bath_x',\n",
       " 'garage_cars_x 2nd_flr_sf_x',\n",
       " 'garage_cars_x bsmt_unf_sf_x',\n",
       " 'garage_cars_x bedroom_abvgr_x',\n",
       " 'garage_cars_x screen_porch_x',\n",
       " 'garage_cars_x overall_cond_x',\n",
       " 'total_bsmt_sf_x^2',\n",
       " 'total_bsmt_sf_x 1st_flr_sf_x',\n",
       " 'total_bsmt_sf_x year_built_x',\n",
       " 'total_bsmt_sf_x year_remod/add_x',\n",
       " 'total_bsmt_sf_x full_bath_x',\n",
       " 'total_bsmt_sf_x garage_yr_blt_x',\n",
       " 'total_bsmt_sf_x mas_vnr_area_x',\n",
       " 'total_bsmt_sf_x totrms_abvgrd_x',\n",
       " 'total_bsmt_sf_x fireplaces_x',\n",
       " 'total_bsmt_sf_x ms_subclass_x',\n",
       " 'total_bsmt_sf_x open_porch_sf_x',\n",
       " 'total_bsmt_sf_x wood_deck_sf_x',\n",
       " 'total_bsmt_sf_x lot_area_x',\n",
       " 'total_bsmt_sf_x bsmt_full_bath_x',\n",
       " 'total_bsmt_sf_x half_bath_x',\n",
       " 'total_bsmt_sf_x 2nd_flr_sf_x',\n",
       " 'total_bsmt_sf_x bsmt_unf_sf_x',\n",
       " 'total_bsmt_sf_x bedroom_abvgr_x',\n",
       " 'total_bsmt_sf_x screen_porch_x',\n",
       " 'total_bsmt_sf_x overall_cond_x',\n",
       " '1st_flr_sf_x^2',\n",
       " '1st_flr_sf_x year_built_x',\n",
       " '1st_flr_sf_x year_remod/add_x',\n",
       " '1st_flr_sf_x full_bath_x',\n",
       " '1st_flr_sf_x garage_yr_blt_x',\n",
       " '1st_flr_sf_x mas_vnr_area_x',\n",
       " '1st_flr_sf_x totrms_abvgrd_x',\n",
       " '1st_flr_sf_x fireplaces_x',\n",
       " '1st_flr_sf_x ms_subclass_x',\n",
       " '1st_flr_sf_x open_porch_sf_x',\n",
       " '1st_flr_sf_x wood_deck_sf_x',\n",
       " '1st_flr_sf_x lot_area_x',\n",
       " '1st_flr_sf_x bsmt_full_bath_x',\n",
       " '1st_flr_sf_x half_bath_x',\n",
       " '1st_flr_sf_x 2nd_flr_sf_x',\n",
       " '1st_flr_sf_x bsmt_unf_sf_x',\n",
       " '1st_flr_sf_x bedroom_abvgr_x',\n",
       " '1st_flr_sf_x screen_porch_x',\n",
       " '1st_flr_sf_x overall_cond_x',\n",
       " 'year_built_x^2',\n",
       " 'year_built_x year_remod/add_x',\n",
       " 'year_built_x full_bath_x',\n",
       " 'year_built_x garage_yr_blt_x',\n",
       " 'year_built_x mas_vnr_area_x',\n",
       " 'year_built_x totrms_abvgrd_x',\n",
       " 'year_built_x fireplaces_x',\n",
       " 'year_built_x ms_subclass_x',\n",
       " 'year_built_x open_porch_sf_x',\n",
       " 'year_built_x wood_deck_sf_x',\n",
       " 'year_built_x lot_area_x',\n",
       " 'year_built_x bsmt_full_bath_x',\n",
       " 'year_built_x half_bath_x',\n",
       " 'year_built_x 2nd_flr_sf_x',\n",
       " 'year_built_x bsmt_unf_sf_x',\n",
       " 'year_built_x bedroom_abvgr_x',\n",
       " 'year_built_x screen_porch_x',\n",
       " 'year_built_x overall_cond_x',\n",
       " 'year_remod/add_x^2',\n",
       " 'year_remod/add_x full_bath_x',\n",
       " 'year_remod/add_x garage_yr_blt_x',\n",
       " 'year_remod/add_x mas_vnr_area_x',\n",
       " 'year_remod/add_x totrms_abvgrd_x',\n",
       " 'year_remod/add_x fireplaces_x',\n",
       " 'year_remod/add_x ms_subclass_x',\n",
       " 'year_remod/add_x open_porch_sf_x',\n",
       " 'year_remod/add_x wood_deck_sf_x',\n",
       " 'year_remod/add_x lot_area_x',\n",
       " 'year_remod/add_x bsmt_full_bath_x',\n",
       " 'year_remod/add_x half_bath_x',\n",
       " 'year_remod/add_x 2nd_flr_sf_x',\n",
       " 'year_remod/add_x bsmt_unf_sf_x',\n",
       " 'year_remod/add_x bedroom_abvgr_x',\n",
       " 'year_remod/add_x screen_porch_x',\n",
       " 'year_remod/add_x overall_cond_x',\n",
       " 'full_bath_x^2',\n",
       " 'full_bath_x garage_yr_blt_x',\n",
       " 'full_bath_x mas_vnr_area_x',\n",
       " 'full_bath_x totrms_abvgrd_x',\n",
       " 'full_bath_x fireplaces_x',\n",
       " 'full_bath_x ms_subclass_x',\n",
       " 'full_bath_x open_porch_sf_x',\n",
       " 'full_bath_x wood_deck_sf_x',\n",
       " 'full_bath_x lot_area_x',\n",
       " 'full_bath_x bsmt_full_bath_x',\n",
       " 'full_bath_x half_bath_x',\n",
       " 'full_bath_x 2nd_flr_sf_x',\n",
       " 'full_bath_x bsmt_unf_sf_x',\n",
       " 'full_bath_x bedroom_abvgr_x',\n",
       " 'full_bath_x screen_porch_x',\n",
       " 'full_bath_x overall_cond_x',\n",
       " 'garage_yr_blt_x^2',\n",
       " 'garage_yr_blt_x mas_vnr_area_x',\n",
       " 'garage_yr_blt_x totrms_abvgrd_x',\n",
       " 'garage_yr_blt_x fireplaces_x',\n",
       " 'garage_yr_blt_x ms_subclass_x',\n",
       " 'garage_yr_blt_x open_porch_sf_x',\n",
       " 'garage_yr_blt_x wood_deck_sf_x',\n",
       " 'garage_yr_blt_x lot_area_x',\n",
       " 'garage_yr_blt_x bsmt_full_bath_x',\n",
       " 'garage_yr_blt_x half_bath_x',\n",
       " 'garage_yr_blt_x 2nd_flr_sf_x',\n",
       " 'garage_yr_blt_x bsmt_unf_sf_x',\n",
       " 'garage_yr_blt_x bedroom_abvgr_x',\n",
       " 'garage_yr_blt_x screen_porch_x',\n",
       " 'garage_yr_blt_x overall_cond_x',\n",
       " 'mas_vnr_area_x^2',\n",
       " 'mas_vnr_area_x totrms_abvgrd_x',\n",
       " 'mas_vnr_area_x fireplaces_x',\n",
       " 'mas_vnr_area_x ms_subclass_x',\n",
       " 'mas_vnr_area_x open_porch_sf_x',\n",
       " 'mas_vnr_area_x wood_deck_sf_x',\n",
       " 'mas_vnr_area_x lot_area_x',\n",
       " 'mas_vnr_area_x bsmt_full_bath_x',\n",
       " 'mas_vnr_area_x half_bath_x',\n",
       " 'mas_vnr_area_x 2nd_flr_sf_x',\n",
       " 'mas_vnr_area_x bsmt_unf_sf_x',\n",
       " 'mas_vnr_area_x bedroom_abvgr_x',\n",
       " 'mas_vnr_area_x screen_porch_x',\n",
       " 'mas_vnr_area_x overall_cond_x',\n",
       " 'totrms_abvgrd_x^2',\n",
       " 'totrms_abvgrd_x fireplaces_x',\n",
       " 'totrms_abvgrd_x ms_subclass_x',\n",
       " 'totrms_abvgrd_x open_porch_sf_x',\n",
       " 'totrms_abvgrd_x wood_deck_sf_x',\n",
       " 'totrms_abvgrd_x lot_area_x',\n",
       " 'totrms_abvgrd_x bsmt_full_bath_x',\n",
       " 'totrms_abvgrd_x half_bath_x',\n",
       " 'totrms_abvgrd_x 2nd_flr_sf_x',\n",
       " 'totrms_abvgrd_x bsmt_unf_sf_x',\n",
       " 'totrms_abvgrd_x bedroom_abvgr_x',\n",
       " 'totrms_abvgrd_x screen_porch_x',\n",
       " 'totrms_abvgrd_x overall_cond_x',\n",
       " 'fireplaces_x^2',\n",
       " 'fireplaces_x ms_subclass_x',\n",
       " 'fireplaces_x open_porch_sf_x',\n",
       " 'fireplaces_x wood_deck_sf_x',\n",
       " 'fireplaces_x lot_area_x',\n",
       " 'fireplaces_x bsmt_full_bath_x',\n",
       " 'fireplaces_x half_bath_x',\n",
       " 'fireplaces_x 2nd_flr_sf_x',\n",
       " 'fireplaces_x bsmt_unf_sf_x',\n",
       " 'fireplaces_x bedroom_abvgr_x',\n",
       " 'fireplaces_x screen_porch_x',\n",
       " 'fireplaces_x overall_cond_x',\n",
       " 'ms_subclass_x^2',\n",
       " 'ms_subclass_x open_porch_sf_x',\n",
       " 'ms_subclass_x wood_deck_sf_x',\n",
       " 'ms_subclass_x lot_area_x',\n",
       " 'ms_subclass_x bsmt_full_bath_x',\n",
       " 'ms_subclass_x half_bath_x',\n",
       " 'ms_subclass_x 2nd_flr_sf_x',\n",
       " 'ms_subclass_x bsmt_unf_sf_x',\n",
       " 'ms_subclass_x bedroom_abvgr_x',\n",
       " 'ms_subclass_x screen_porch_x',\n",
       " 'ms_subclass_x overall_cond_x',\n",
       " 'open_porch_sf_x^2',\n",
       " 'open_porch_sf_x wood_deck_sf_x',\n",
       " 'open_porch_sf_x lot_area_x',\n",
       " 'open_porch_sf_x bsmt_full_bath_x',\n",
       " 'open_porch_sf_x half_bath_x',\n",
       " 'open_porch_sf_x 2nd_flr_sf_x',\n",
       " 'open_porch_sf_x bsmt_unf_sf_x',\n",
       " 'open_porch_sf_x bedroom_abvgr_x',\n",
       " 'open_porch_sf_x screen_porch_x',\n",
       " 'open_porch_sf_x overall_cond_x',\n",
       " 'wood_deck_sf_x^2',\n",
       " 'wood_deck_sf_x lot_area_x',\n",
       " 'wood_deck_sf_x bsmt_full_bath_x',\n",
       " 'wood_deck_sf_x half_bath_x',\n",
       " 'wood_deck_sf_x 2nd_flr_sf_x',\n",
       " 'wood_deck_sf_x bsmt_unf_sf_x',\n",
       " 'wood_deck_sf_x bedroom_abvgr_x',\n",
       " 'wood_deck_sf_x screen_porch_x',\n",
       " 'wood_deck_sf_x overall_cond_x',\n",
       " 'lot_area_x^2',\n",
       " 'lot_area_x bsmt_full_bath_x',\n",
       " 'lot_area_x half_bath_x',\n",
       " 'lot_area_x 2nd_flr_sf_x',\n",
       " 'lot_area_x bsmt_unf_sf_x',\n",
       " 'lot_area_x bedroom_abvgr_x',\n",
       " 'lot_area_x screen_porch_x',\n",
       " 'lot_area_x overall_cond_x',\n",
       " 'bsmt_full_bath_x^2',\n",
       " 'bsmt_full_bath_x half_bath_x',\n",
       " 'bsmt_full_bath_x 2nd_flr_sf_x',\n",
       " 'bsmt_full_bath_x bsmt_unf_sf_x',\n",
       " 'bsmt_full_bath_x bedroom_abvgr_x',\n",
       " 'bsmt_full_bath_x screen_porch_x',\n",
       " 'bsmt_full_bath_x overall_cond_x',\n",
       " 'half_bath_x^2',\n",
       " 'half_bath_x 2nd_flr_sf_x',\n",
       " 'half_bath_x bsmt_unf_sf_x',\n",
       " 'half_bath_x bedroom_abvgr_x',\n",
       " 'half_bath_x screen_porch_x',\n",
       " 'half_bath_x overall_cond_x',\n",
       " '2nd_flr_sf_x^2',\n",
       " '2nd_flr_sf_x bsmt_unf_sf_x',\n",
       " '2nd_flr_sf_x bedroom_abvgr_x',\n",
       " '2nd_flr_sf_x screen_porch_x',\n",
       " '2nd_flr_sf_x overall_cond_x',\n",
       " 'bsmt_unf_sf_x^2',\n",
       " 'bsmt_unf_sf_x bedroom_abvgr_x',\n",
       " 'bsmt_unf_sf_x screen_porch_x',\n",
       " 'bsmt_unf_sf_x overall_cond_x',\n",
       " 'bedroom_abvgr_x^2',\n",
       " 'bedroom_abvgr_x screen_porch_x',\n",
       " 'bedroom_abvgr_x overall_cond_x',\n",
       " 'screen_porch_x^2',\n",
       " 'screen_porch_x overall_cond_x',\n",
       " 'overall_cond_x^2']"
      ]
     },
     "execution_count": 355,
     "metadata": {},
     "output_type": "execute_result"
    }
   ],
   "source": [
    "poly.get_feature_names(X.columns)\\"
   ]
  },
  {
   "cell_type": "markdown",
   "metadata": {},
   "source": [
    "### Examining the dimensions of X_overfit"
   ]
  },
  {
   "cell_type": "code",
   "execution_count": 356,
   "metadata": {},
   "outputs": [
    {
     "data": {
      "text/plain": [
       "(2049, 324)"
      ]
     },
     "execution_count": 356,
     "metadata": {},
     "output_type": "execute_result"
    }
   ],
   "source": [
    "# Check out the dimensions of X_overfit.\n",
    "X_overfit.shape"
   ]
  },
  {
   "cell_type": "markdown",
   "metadata": {},
   "source": [
    "### Creating the Train Test Split Function"
   ]
  },
  {
   "cell_type": "code",
   "execution_count": 357,
   "metadata": {},
   "outputs": [],
   "source": [
    "# Create train/test splits.\n",
    "X_train, X_test, y_train, y_test = train_test_split(\n",
    "    X_overfit,\n",
    "    y,\n",
    "    test_size=0.3,\n",
    "    random_state=42\n",
    ")"
   ]
  },
  {
   "cell_type": "markdown",
   "metadata": {},
   "source": [
    "### Printing the shapes of X_train, y_train, X_test, and y_test"
   ]
  },
  {
   "cell_type": "code",
   "execution_count": 358,
   "metadata": {},
   "outputs": [
    {
     "name": "stdout",
     "output_type": "stream",
     "text": [
      "X_train shape is: (1434, 324)\n",
      "y_train shape is: (1434,)\n",
      "X_test shape is: (615, 324)\n",
      "y_test shape is: (615,)\n"
     ]
    }
   ],
   "source": [
    "print(f'X_train shape is: {X_train.shape}')\n",
    "print(f'y_train shape is: {y_train.shape}')\n",
    "print(f'X_test shape is: {X_test.shape}')\n",
    "print(f'y_test shape is: {y_test.shape}')"
   ]
  },
  {
   "cell_type": "markdown",
   "metadata": {},
   "source": [
    "### Instantiating Standard Scaler"
   ]
  },
  {
   "cell_type": "code",
   "execution_count": 359,
   "metadata": {},
   "outputs": [],
   "source": [
    "# Instantiate Standard Scaler.\n",
    "sc = StandardScaler()"
   ]
  },
  {
   "cell_type": "markdown",
   "metadata": {},
   "source": [
    "### Fitting and transforming Standard Scaler to overfit the data in one step."
   ]
  },
  {
   "cell_type": "code",
   "execution_count": 360,
   "metadata": {},
   "outputs": [],
   "source": [
    "# Fit AND transform Standard Scaler to overfit data in one step.\n",
    "# Z_overfit_train = pd.DataFrame(ss_overfit.fit_transform(X_overfit_train))\n",
    "Z_train = sc.fit_transform(X_train)\n",
    "Z_test = sc.transform(X_test)"
   ]
  },
  {
   "cell_type": "markdown",
   "metadata": {},
   "source": [
    "### Examining Z_train in a matrix of 10 rows and 3 columns"
   ]
  },
  {
   "cell_type": "code",
   "execution_count": 361,
   "metadata": {},
   "outputs": [
    {
     "data": {
      "text/plain": [
       "array([[-0.04717383, -0.53604343, -0.3202796 ],\n",
       "       [ 0.65022069, -0.0131528 ,  0.06544151],\n",
       "       [-1.44196286, -0.30547748,  0.46997829],\n",
       "       [ 0.65022069,  0.51179645, -0.17445821],\n",
       "       [-0.74456835, -0.60603666,  0.32886081],\n",
       "       [-0.74456835, -1.17833427, -0.85652603],\n",
       "       [ 0.65022069,  0.73618652,  0.07484934],\n",
       "       [ 0.65022069,  1.72432628, -0.32968744],\n",
       "       [-0.74456835,  0.46856533,  0.55464878],\n",
       "       [ 1.34761521, -0.42076045,  0.16892766]])"
      ]
     },
     "execution_count": 361,
     "metadata": {},
     "output_type": "execute_result"
    }
   ],
   "source": [
    "Z_train[:10, :3]"
   ]
  },
  {
   "cell_type": "markdown",
   "metadata": {},
   "source": [
    "### Instantiating Ridge model with alpha=10"
   ]
  },
  {
   "cell_type": "code",
   "execution_count": 362,
   "metadata": {},
   "outputs": [],
   "source": [
    "# Instantiate.\n",
    "ridge_model = Ridge(alpha=10)"
   ]
  },
  {
   "cell_type": "markdown",
   "metadata": {},
   "source": [
    "### Fitting model to Z_train and y_train"
   ]
  },
  {
   "cell_type": "code",
   "execution_count": 363,
   "metadata": {},
   "outputs": [
    {
     "data": {
      "text/plain": [
       "Ridge(alpha=10, copy_X=True, fit_intercept=True, max_iter=None, normalize=False,\n",
       "      random_state=None, solver='auto', tol=0.001)"
      ]
     },
     "execution_count": 363,
     "metadata": {},
     "output_type": "execute_result"
    }
   ],
   "source": [
    "# Fit.\n",
    "ridge_model.fit(Z_train, y_train)"
   ]
  },
  {
   "cell_type": "markdown",
   "metadata": {},
   "source": [
    "### Examining R2 score of the Ridge model"
   ]
  },
  {
   "cell_type": "code",
   "execution_count": 364,
   "metadata": {},
   "outputs": [
    {
     "name": "stdout",
     "output_type": "stream",
     "text": [
      "0.9352708667782593\n",
      "0.918181173820229\n"
     ]
    }
   ],
   "source": [
    "# Evaluate model using R2.\n",
    "print(ridge_model.score(Z_train, y_train))\n",
    "print(ridge_model.score(Z_test, y_test))"
   ]
  },
  {
   "cell_type": "markdown",
   "metadata": {},
   "source": [
    "### Much improved R2 score from the log model.  Also, this model is not underfit like the previous 3\n",
    "***\n",
    "### Setting up a list of ridge alphas and fitting the model to the best ridge alpha"
   ]
  },
  {
   "cell_type": "code",
   "execution_count": 365,
   "metadata": {},
   "outputs": [
    {
     "data": {
      "text/plain": [
       "RidgeCV(alphas=array([1.00000000e+00, 1.14975700e+00, 1.32194115e+00, 1.51991108e+00,\n",
       "       1.74752840e+00, 2.00923300e+00, 2.31012970e+00, 2.65608778e+00,\n",
       "       3.05385551e+00, 3.51119173e+00, 4.03701726e+00, 4.64158883e+00,\n",
       "       5.33669923e+00, 6.13590727e+00, 7.05480231e+00, 8.11130831e+00,\n",
       "       9.32603347e+00, 1.07226722e+01, 1.23284674e+01, 1.41747416e+01,\n",
       "       1.62975083e+01, 1.87381742e+0...\n",
       "       7.05480231e+04, 8.11130831e+04, 9.32603347e+04, 1.07226722e+05,\n",
       "       1.23284674e+05, 1.41747416e+05, 1.62975083e+05, 1.87381742e+05,\n",
       "       2.15443469e+05, 2.47707636e+05, 2.84803587e+05, 3.27454916e+05,\n",
       "       3.76493581e+05, 4.32876128e+05, 4.97702356e+05, 5.72236766e+05,\n",
       "       6.57933225e+05, 7.56463328e+05, 8.69749003e+05, 1.00000000e+06]),\n",
       "        cv=5, fit_intercept=True, gcv_mode=None, normalize=False, scoring='r2',\n",
       "        store_cv_values=False)"
      ]
     },
     "execution_count": 365,
     "metadata": {},
     "output_type": "execute_result"
    }
   ],
   "source": [
    "# Set up a list of ridge alphas to check.\n",
    "# Generates 100 values equally between 0 and 6,\n",
    "# then converts them to alphas between 10^0 and 10^5.\n",
    "alphas_ridge = np.logspace(0, 6, 100)\n",
    "# Cross-validate over our list of ridge alphas.\n",
    "ridge_cv = RidgeCV(\n",
    "    alphas=alphas_ridge,\n",
    "    scoring='r2',\n",
    "    cv=5\n",
    "    )\n",
    "# Fit model using best ridge alpha!\n",
    "ridge_cv.fit(Z_train, y_train)"
   ]
  },
  {
   "cell_type": "code",
   "execution_count": 366,
   "metadata": {},
   "outputs": [
    {
     "data": {
      "text/plain": [
       "65.79332246575683"
      ]
     },
     "execution_count": 366,
     "metadata": {},
     "output_type": "execute_result"
    }
   ],
   "source": [
    "# Here is the optimal value of alpha\n",
    "ridge_cv.alpha_"
   ]
  },
  {
   "cell_type": "markdown",
   "metadata": {},
   "source": [
    "### Above is the optimal ridge_cv alpha\n",
    "***\n",
    "### Re-testing R2 scores for train and test ridge models"
   ]
  },
  {
   "cell_type": "code",
   "execution_count": 367,
   "metadata": {},
   "outputs": [
    {
     "data": {
      "text/plain": [
       "0.9266385835352121"
      ]
     },
     "execution_count": 367,
     "metadata": {},
     "output_type": "execute_result"
    }
   ],
   "source": [
    "train_ridge_r2 = ridge_cv.score(Z_train, y_train)\n",
    "train_ridge_r2"
   ]
  },
  {
   "cell_type": "code",
   "execution_count": 368,
   "metadata": {},
   "outputs": [
    {
     "data": {
      "text/plain": [
       "0.9286469765664893"
      ]
     },
     "execution_count": 368,
     "metadata": {},
     "output_type": "execute_result"
    }
   ],
   "source": [
    "test_ridge_r2 = ridge_cv.score(Z_test, y_test)\n",
    "test_ridge_r2"
   ]
  },
  {
   "cell_type": "markdown",
   "metadata": {},
   "source": [
    "### Train and test are nearly identical.  Our model is now fit very nicely with a higher R2 score\n",
    "***\n",
    "### Calculating RMSE for train and test ridge models"
   ]
  },
  {
   "cell_type": "code",
   "execution_count": 369,
   "metadata": {},
   "outputs": [],
   "source": [
    "predict_ridge_train = ridge_cv.predict(Z_train)"
   ]
  },
  {
   "cell_type": "code",
   "execution_count": 370,
   "metadata": {},
   "outputs": [],
   "source": [
    "predict_ridge_test = ridge_cv.predict(Z_test)"
   ]
  },
  {
   "cell_type": "code",
   "execution_count": 371,
   "metadata": {},
   "outputs": [
    {
     "data": {
      "text/plain": [
       "21142.187457743818"
      ]
     },
     "execution_count": 371,
     "metadata": {},
     "output_type": "execute_result"
    }
   ],
   "source": [
    "train_ridge_rmse = np.sqrt(mean_squared_error(y_train, predict_ridge_train))\n",
    "train_ridge_rmse"
   ]
  },
  {
   "cell_type": "code",
   "execution_count": 372,
   "metadata": {},
   "outputs": [
    {
     "data": {
      "text/plain": [
       "21873.744176516888"
      ]
     },
     "execution_count": 372,
     "metadata": {},
     "output_type": "execute_result"
    }
   ],
   "source": [
    "test_ridge_rmse = np.sqrt(mean_squared_error(y_test, predict_ridge_test))\n",
    "test_ridge_rmse"
   ]
  },
  {
   "cell_type": "markdown",
   "metadata": {},
   "source": [
    "### The RMSE has dropped about 8000 points compared to our MLR models\n",
    "***\n",
    "### Plotting predicted vs. actual y values of the Ridge Model"
   ]
  },
  {
   "cell_type": "code",
   "execution_count": 373,
   "metadata": {},
   "outputs": [
    {
     "data": {
      "text/plain": [
       "array([131597.52896236, 320168.99467966, 117904.56231574, 126264.85394082,\n",
       "       106730.71936082, 300156.07816059, 214078.2042817 , 184667.37524493,\n",
       "       260440.29733274, 145951.04247418, 196763.98489227, 278138.63209302,\n",
       "       109346.29498054, 122501.8257549 , 268364.053791  ,  97822.91034854,\n",
       "       219708.16008952, 193443.77937688,  85880.0533098 , 238473.01667637,\n",
       "       152286.39107167, 122785.06101884, 103910.17441623, 219483.38805936,\n",
       "       124254.57806965, 155548.12822704,  99882.06726773, 192172.9853642 ,\n",
       "       212270.84600973, 132551.90323031, 139732.38718873, 223599.20165997,\n",
       "       130873.52568703, 214094.33733148, 110491.6373301 , 287381.56667134,\n",
       "       192456.9340653 , 130463.40853751, 115525.79721493, 124890.80115954,\n",
       "       177967.40743779, 201464.61538057, 113526.88401159, 139020.88659483,\n",
       "       239265.26353803, 132802.34245163, 182483.26818843, 186755.82011238,\n",
       "        91014.06968214, 141852.99248327,  91370.05006232, 124923.06377471,\n",
       "       176997.30268639,  81195.18006344, 135807.31337407, 135357.22880487,\n",
       "       117808.96542823, 111570.16650115, 440690.1835719 , 103524.16285263,\n",
       "       189534.60337322, 347455.11910038, 148340.94315977, 402046.94987918,\n",
       "       238442.863379  , 127460.05229582, 233550.99881023, 138022.48426757,\n",
       "       125405.67168785, 133783.12567541, 131869.16273071, 173315.71426399,\n",
       "       183584.63469276, 181338.40392273, 224727.65365035, 112319.86287282,\n",
       "       216858.91632909, 191367.11038394, 127050.62784377, 114195.10376915,\n",
       "       323447.38672109, 144572.12266478, 119237.02919622, 154511.23443316,\n",
       "       145338.91680244, 202690.75644337, 164791.42026128, 173311.65054356,\n",
       "       195650.83166858, 186100.13076028,  96610.30783812, 240539.41865539,\n",
       "       164349.0568376 , 143530.09335178, 193144.6237369 , 132645.62715014,\n",
       "        84230.36680432, 497901.74756887, 182192.97370357, 222020.04763827,\n",
       "       189995.31846458, 166769.43278817, 144260.71751353, 169610.41034129,\n",
       "       248792.88167133, 138371.5572598 , 177632.91214051, 191319.12250225,\n",
       "       205938.86599238, 204980.54026484, 319041.85955527, 183752.91552467,\n",
       "       195399.57620429, 133741.07945766, 118561.31113596, 145720.78451558,\n",
       "       182013.94906546, 184065.60803126, 162748.98550551, 211977.2455666 ,\n",
       "       139561.10826855, 199254.92243693, 159407.14829662, 102871.92236183,\n",
       "       274172.10561173, 334672.88156221, 197716.60103958, 113648.53125807,\n",
       "        93913.24367398,  82158.87753606, 428207.55088519, 121106.16322065,\n",
       "       138847.87038627, 201746.07892427, 112017.2986718 , 229668.37681202,\n",
       "       303344.87378282, 188939.97709323, 228438.22090163, 120402.07277423,\n",
       "       142932.19953259,  73921.50998013, 107213.75051092, 156326.67022923,\n",
       "       216578.78847956, 131959.71725683, 103494.74224368, 213394.56906215,\n",
       "       166092.92802368, 334022.07154241, 123411.36188279, 172056.48967733,\n",
       "       154846.10562115, 219679.19302082, 250158.56798993, 165395.06013372,\n",
       "       179968.71213873, 188141.35851325, 198459.58590806, 301266.70074788,\n",
       "       130186.76041218,  90016.39227043, 105268.13167042, 112367.69811572,\n",
       "       198433.24289456, 184174.81238089, 128635.45213046, 169882.05716776,\n",
       "       231395.20405221, 172955.80981344, 143337.89578795, 249015.70948905,\n",
       "       163115.76539053, 118191.63763728, 219142.80648061, 249582.94586711,\n",
       "       160769.9804488 ,  99929.56363245, 298658.30749721, 181296.47378236,\n",
       "       212573.61907856, 187834.60240466, 120012.8955371 , 202062.47349756,\n",
       "       103708.77511031, 141111.25442834, 150090.32337446, 131288.1393501 ,\n",
       "       173612.78993408, 104468.43811654, 171076.99434533, 163907.03744038,\n",
       "       103304.87752972, 378937.39039816, 200627.39172677, 163407.87123033,\n",
       "       147038.03537742, 172476.375635  , 162941.84416816, 182892.89165538,\n",
       "        90337.64164056, 112392.26704119, 127147.39218637, 314883.61394656,\n",
       "        96152.35283418, 244174.66495324, 317484.62505992,  94600.99308297,\n",
       "       162227.17940863, 218982.9659895 , 246466.26744405, 134605.02992527,\n",
       "        76723.09447977, 317792.17662155, 140024.10986327, 214068.87562917,\n",
       "       132908.11916913,  73186.98231596, 186012.11536234, 203662.18955002,\n",
       "       178549.80098253, 265370.11178308, 233769.28639589, 361400.63011456,\n",
       "       310920.63621939, 121714.49338209, 359465.351905  , 298906.28289407,\n",
       "       227846.21345359, 176061.12134008, 153643.38325647, 204928.03346739,\n",
       "       107160.46614871, 119186.57526171, 162966.70716203, 221669.23628616,\n",
       "       117018.89211587, 183566.72489598, 160194.24072794, 104623.85995194,\n",
       "       259718.40624687, 125808.35933491, 114335.33749022, 150061.86844355,\n",
       "       286359.15846982, 425258.78287278, 151829.7069211 , 213926.79232104,\n",
       "       252152.13667474, 182823.38428865, 200457.15314969, 204178.17731078,\n",
       "       175801.25050897, 109507.77018521, 158192.03167499, 126313.71157518,\n",
       "        75824.201249  , 151077.83896072, 176325.62835123, 341471.57095271,\n",
       "       103749.75194654, 130223.38855649, 111032.74188815, 153750.81391848,\n",
       "       139670.18579981, 100938.40976373, 158849.78451225, 143498.85436727,\n",
       "       242981.2402132 ,  92787.25300617,  99043.54997103, 218367.84138974,\n",
       "       126279.17688743, 139325.48710971, 173159.30178179, 349876.685346  ,\n",
       "        98384.0832685 , 138302.61336063, 191301.78474726, 175102.76535534,\n",
       "       170935.41834693,  87585.75310084, 198672.86530173, 146330.00023659,\n",
       "       254468.56829471, 100307.55320957, 311421.59001619, 164758.02212478,\n",
       "       157544.05404345, 184011.12713246, 154339.19211875, 205024.28246642,\n",
       "       276504.5530394 , 201062.5467703 , 207536.83379842, 321982.74002209,\n",
       "       154754.62931894, 180717.6108348 , 156662.98789981, 212685.60281958,\n",
       "        81658.75205998, 181537.71130117, 177850.90562487, 190875.90244455,\n",
       "       162801.62526916, 214123.99893106, 141699.96744891, 122148.49175938,\n",
       "       191128.67509157, 205887.2302408 , 289894.29148413, 172269.38417709,\n",
       "       101080.76811476, 118723.54314595, 132381.36204908, 123893.3211302 ,\n",
       "        47898.26902489, 156294.13659604, 132422.44080385, 185327.34436109,\n",
       "       105555.38450268, 272113.92562636, 379496.9066168 , 156049.81552875,\n",
       "       102741.00251758, 326000.27664149, 191203.33813355, 194448.54187696,\n",
       "       264783.58951503, 261437.25285124, 182724.03125938, 125475.25634847,\n",
       "       357681.53069422, 187334.62296311, 304071.16042167, 154199.09085457,\n",
       "        82545.59526205, 290091.18795496,  98828.33769036, 244127.6613644 ,\n",
       "       111115.99044449, 180153.05959613, 106302.41287699, 265893.27476567,\n",
       "       172269.38417709, 127087.35855566, 154368.13971746,  77240.27459296,\n",
       "        98661.5936202 , 128084.77732373, 104029.7373214 , 344499.59002841,\n",
       "       167022.59211892, 128687.04738341, 237076.91606569, 159025.64563516,\n",
       "       206009.36388351, 139666.02006999, 124324.51614601, 136049.8949958 ,\n",
       "       116810.23299792, 153110.55176338, 240189.65716303, 212926.79175073,\n",
       "       126404.63904657, 188652.37862421, 223599.89844864, 271062.93976864,\n",
       "       224164.16820022, 125252.60110053, 234892.20551751, 145281.40274277,\n",
       "       143322.67470647, 138887.06189281, 167218.74648784, 230628.99201606,\n",
       "       191434.81685296, 125760.71940544, 196919.23627835, 231348.30164963,\n",
       "       150239.94514631, 253694.29487627, 168024.80924121, 109085.01646872,\n",
       "       299182.02997259, 154679.12568185, 137910.40500692, 140795.68574808,\n",
       "       258736.75103339, 148381.05475574, 221674.23683942,  92662.54080962,\n",
       "       226559.13226462, 143946.67818313, 179460.60223296, 120642.14961266,\n",
       "       205794.42119034, 514962.98708859, 131217.82734473, 166956.15684503,\n",
       "       106620.94543081, 203219.0656526 , 176677.7211381 , 199343.7378703 ,\n",
       "       489973.91896528, 124398.11583739,  94090.68516687, 148361.39603139,\n",
       "       205442.409632  ,  82528.67877417, 139973.77494   , 181277.12929321,\n",
       "       117969.23248712, 186700.19155111, 302775.17498038, 204093.65765167,\n",
       "       108625.37564521, 150332.68454615,  59514.38845618, 144609.80599212,\n",
       "       323473.43968073, 253197.71217005, 458542.95482601, 193117.61705068,\n",
       "       195283.07623137, 191831.26165058, 181429.40203554, 152179.28574765,\n",
       "       252618.71061679,  96981.67051971, 197207.25027306, 137526.63819199,\n",
       "       139634.97638246, 135542.93952117, 196154.58073192, 178502.42556521,\n",
       "       115189.61426985, 142402.92904178, 112051.55369406, 123532.04213898,\n",
       "       146175.71388596, 314214.90527664, 146339.73669551, 199372.73955001,\n",
       "       114443.82258911, 148752.80096052, 298216.8754872 , 177611.41315148,\n",
       "       136735.56636449, 117317.0702578 , 191613.76958903, 195766.34777843,\n",
       "       130877.84845341, 491694.66749336, 126492.26683577, 101800.09972673,\n",
       "       131088.61073134, 256503.06127174, 222598.14573483, 278003.32409237,\n",
       "       188090.7048536 , 306327.50439423, 161706.46975857, 105114.8026739 ,\n",
       "       203684.9768339 , 214084.77380519, 281989.33176777, 289634.69130256,\n",
       "       148616.73748674, 361894.8319319 , 112214.16946834, 216466.21392674,\n",
       "       347530.70894918, 351849.91119098,  89014.21500257, 119099.17313939,\n",
       "       208543.23683906, 114174.41045595, 196560.17572012, 196427.60349927,\n",
       "       117466.72447466, 133736.50468061, 194479.27747876, 153937.56093126,\n",
       "        85993.15084912, 201722.62368497, 110328.17435793, 132814.59292363,\n",
       "       124224.13033013,  69444.29082808, 134287.46918016, 296434.77072284,\n",
       "       152493.35257527, 221239.45609602,  84743.91926243, 247649.09692787,\n",
       "       167152.22754519, 139359.05999112, 115322.83869351, 187842.90128309,\n",
       "       160657.87396918, 139526.98287975, 222752.57675117, 242744.77588834,\n",
       "       124881.06182083, 119016.06659231, 222884.89117111, 418516.14245604,\n",
       "       119406.09379614, 257597.75828471, 299755.20275303, 122226.53521511,\n",
       "       255185.00629028, 230123.79207574, 123522.8052509 , 351146.94934218,\n",
       "       319686.71258775, 150354.00998617, 136427.40302805, 296961.53353102,\n",
       "       164185.20324801, 146959.06879336, 178385.36301099, 193888.79966962,\n",
       "       260598.19111669, 144064.05790871, 140877.20352769, 210810.34565912,\n",
       "       325521.56345683, 257022.55594231, 392698.30322584, 151562.32391218,\n",
       "       149712.64676402, 142887.51272618, 105518.57943518, 105162.94974855,\n",
       "       225403.17088879, 134427.38957178, 537464.20161637, 220091.60048467,\n",
       "       178374.09264207, 171651.82198486, 211338.76197707, 216949.30162064,\n",
       "       270137.89593186, 176106.73968316, 289899.64636123, 205629.98965247,\n",
       "       197093.03197481, 212404.65437622, 140671.02644267, 127871.66092048,\n",
       "       103689.20524991, 127168.36384921, 304312.60388061, 225536.28353957,\n",
       "       160963.73468734, 263331.23665023, 253070.14386958, 126718.14129446,\n",
       "       178728.92855217, 315501.71633636,  73847.89495856, 393693.31286576,\n",
       "       238831.81095886, 397538.08416837, 116198.07540537, 369948.88748084,\n",
       "       160016.13097939, 155932.65390562, 115332.39717622, 292468.20858507,\n",
       "       262427.70470425, 235252.72212801, 204169.49650682, 266883.00721459,\n",
       "       190788.57626885, 146525.88468447, 189707.11873572, 232519.98649218,\n",
       "        93304.8120105 , 238928.81201701, 270018.42892346, 281484.78724861,\n",
       "       171265.75218374, 172502.23665473, 118120.5284017 , 179574.85671018,\n",
       "       148247.09884395, 365501.19221934, 224595.6435935 , 143197.28299859,\n",
       "       190283.66381791,  82918.28653135, 319561.81548626, 143050.88883671,\n",
       "       106311.04875372, 104617.88627394, 267659.15294398, 239136.27477397,\n",
       "       181503.48731992, 250778.83875944, 222957.95905622,  78664.00363012,\n",
       "       156518.10609413,  86218.45648369, 173603.30271446, 112949.73977639,\n",
       "       337138.46204001, 183894.80370627, 193141.30981022, 183925.06405568,\n",
       "       287835.53164476, 186960.4271143 , 211004.75396296])"
      ]
     },
     "execution_count": 373,
     "metadata": {},
     "output_type": "execute_result"
    }
   ],
   "source": [
    "y_preds_ridge"
   ]
  },
  {
   "cell_type": "code",
   "execution_count": 374,
   "metadata": {},
   "outputs": [
    {
     "data": {
      "text/plain": [
       "(2049, 24)"
      ]
     },
     "execution_count": 374,
     "metadata": {},
     "output_type": "execute_result"
    }
   ],
   "source": [
    "X.shape"
   ]
  },
  {
   "cell_type": "code",
   "execution_count": 375,
   "metadata": {},
   "outputs": [],
   "source": [
    "y_preds_ridge = ridge_cv.predict(Z_test)"
   ]
  },
  {
   "cell_type": "code",
   "execution_count": 376,
   "metadata": {},
   "outputs": [
    {
     "data": {
      "text/plain": [
       "(615,)"
      ]
     },
     "execution_count": 376,
     "metadata": {},
     "output_type": "execute_result"
    }
   ],
   "source": [
    "y_test.shape"
   ]
  },
  {
   "cell_type": "code",
   "execution_count": 377,
   "metadata": {},
   "outputs": [
    {
     "data": {
      "text/plain": [
       "(615,)"
      ]
     },
     "execution_count": 377,
     "metadata": {},
     "output_type": "execute_result"
    }
   ],
   "source": [
    "y_preds_ridge.shape"
   ]
  },
  {
   "cell_type": "code",
   "execution_count": 378,
   "metadata": {},
   "outputs": [
    {
     "data": {
      "image/png": "[encoded data removed]",
      "text/plain": [
       "<Figure size 864x576 with 1 Axes>"
      ]
     },
     "metadata": {
      "needs_background": "light"
     },
     "output_type": "display_data"
    }
   ],
   "source": [
    "# Plot the model\n",
    "plt.figure(figsize=(12,8))\n",
    "\n",
    "# Generate a scatterplot of predicted values versus actual values.\n",
    "plt.scatter(y_preds_ridge, y_test, s=5, color='skyblue', alpha = 0.5)\n",
    "\n",
    "# Plot a line.\n",
    "plt.plot([0, np.max(y)],\n",
    "         [0, np.max(y)],\n",
    "         color = 'black')\n",
    "\n",
    "# Tweak title and axis labels.\n",
    "plt.xlabel(\"Predicted Values: $\\hat{y}$\", fontsize = 20)\n",
    "plt.ylabel(\"Actual Values: $y$\", fontsize = 20)\n",
    "plt.title('Predicted Values vs. Actual Values', fontsize = 24);"
   ]
  },
  {
   "cell_type": "markdown",
   "metadata": {},
   "source": [
    "### Plot looks more linear than not even as sale prices increase.\n",
    "*** \n",
    "### Adding R2 and RMSE scores of the Ridge model to the Model Comparisons Table.  Saving changes to csv"
   ]
  },
  {
   "cell_type": "code",
   "execution_count": null,
   "metadata": {},
   "outputs": [],
   "source": []
  },
  {
   "cell_type": "code",
   "execution_count": 379,
   "metadata": {},
   "outputs": [],
   "source": [
    "#table = pd.read_csv('../datasets/model_comparisons_table.csv', index_col = [0])\n",
    "#table = table.drop('ridge_model', axis=1)"
   ]
  },
  {
   "cell_type": "code",
   "execution_count": 380,
   "metadata": {},
   "outputs": [],
   "source": [
    "#table['ridge_model'] = [train_ridge_r2, test_ridge_r2, train_ridge_rmse, test_ridge_rmse]"
   ]
  },
  {
   "cell_type": "code",
   "execution_count": 381,
   "metadata": {},
   "outputs": [],
   "source": [
    "#table.to_csv('../datasets/model_comparisons_table.csv')"
   ]
  },
  {
   "cell_type": "code",
   "execution_count": null,
   "metadata": {},
   "outputs": [],
   "source": []
  }
 ],
 "metadata": {
  "kernelspec": {
   "display_name": "Python 3",
   "language": "python",
   "name": "python3"
  },
  "language_info": {
   "codemirror_mode": {
    "name": "ipython",
    "version": 3
   },
   "file_extension": ".py",
   "mimetype": "text/x-python",
   "name": "python",
   "nbconvert_exporter": "python",
   "pygments_lexer": "ipython3",
   "version": "3.7.4"
  }
 },
 "nbformat": 4,
 "nbformat_minor": 4
}
