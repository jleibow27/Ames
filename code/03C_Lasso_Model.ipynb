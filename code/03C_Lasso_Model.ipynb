{
 "cells": [
  {
   "cell_type": "markdown",
   "metadata": {},
   "source": [
    "# Ames Housing Notebook: 03C - Lasso Model\n",
    "***\n",
    "### Importing basline packages as well as scikit learn - linear_model, model_selection, metrics, and pre-processing packages"
   ]
  },
  {
   "cell_type": "code",
   "execution_count": 285,
   "metadata": {},
   "outputs": [],
   "source": [
    "import pandas as pd\n",
    "import numpy as np\n",
    "import seaborn as sns\n",
    "import matplotlib.pyplot as plt\n",
    "from sklearn.linear_model import LinearRegression, RidgeCV, LassoCV\n",
    "from sklearn.model_selection import train_test_split, cross_val_score\n",
    "from sklearn.metrics import mean_squared_error\n",
    "from sklearn.metrics import r2_score\n",
    "from sklearn.preprocessing import PolynomialFeatures\n",
    "from sklearn.preprocessing import StandardScaler\n",
    "\n",
    "%matplotlib inline"
   ]
  },
  {
   "cell_type": "markdown",
   "metadata": {},
   "source": [
    "### Reading in the polynomials csv I created at the end of the 03A_MLR_Model notebook "
   ]
  },
  {
   "cell_type": "code",
   "execution_count": 286,
   "metadata": {},
   "outputs": [],
   "source": [
    "poly_df = pd.read_csv('../datasets/polynomials_df.csv', index_col = [0])"
   ]
  },
  {
   "cell_type": "markdown",
   "metadata": {},
   "source": [
    "### Creating features matrix (X) and target vector (y)"
   ]
  },
  {
   "cell_type": "code",
   "execution_count": 287,
   "metadata": {},
   "outputs": [],
   "source": [
    "X = poly_df.drop('saleprice_x', axis=1)\n",
    "y = poly_df['saleprice_x']"
   ]
  },
  {
   "cell_type": "markdown",
   "metadata": {},
   "source": [
    "### Instantiating PolynomialFeatures object to create all two-way terms."
   ]
  },
  {
   "cell_type": "code",
   "execution_count": 288,
   "metadata": {},
   "outputs": [],
   "source": [
    "# Instantiate our PolynomialFeatures object to create all two-way terms.\n",
    "poly = PolynomialFeatures(degree=2, interaction_only=False, include_bias=False)"
   ]
  },
  {
   "cell_type": "markdown",
   "metadata": {},
   "source": [
    "### Fitting and transforming the X data."
   ]
  },
  {
   "cell_type": "code",
   "execution_count": 289,
   "metadata": {},
   "outputs": [],
   "source": [
    "# Fit and transform our X data.\n",
    "X_overfit = poly.fit_transform(X)"
   ]
  },
  {
   "cell_type": "markdown",
   "metadata": {},
   "source": [
    "### Examining the dimensions of X_overfit"
   ]
  },
  {
   "cell_type": "code",
   "execution_count": 290,
   "metadata": {},
   "outputs": [
    {
     "data": {
      "text/plain": [
       "(2049, 324)"
      ]
     },
     "execution_count": 290,
     "metadata": {},
     "output_type": "execute_result"
    }
   ],
   "source": [
    "# Check out the dimensions of X_overfit.\n",
    "X_overfit.shape"
   ]
  },
  {
   "cell_type": "markdown",
   "metadata": {},
   "source": [
    "### Creating the Train Test Split Function"
   ]
  },
  {
   "cell_type": "code",
   "execution_count": 291,
   "metadata": {},
   "outputs": [],
   "source": [
    "# Create train/test splits.\n",
    "X_train, X_test, y_train, y_test = train_test_split(\n",
    "    X_overfit,\n",
    "    y,\n",
    "    test_size=0.3,\n",
    "    random_state=42\n",
    ")"
   ]
  },
  {
   "cell_type": "markdown",
   "metadata": {},
   "source": [
    "### Printing the shapes of X_train, y_train, X_test, and y_test"
   ]
  },
  {
   "cell_type": "code",
   "execution_count": 292,
   "metadata": {},
   "outputs": [
    {
     "name": "stdout",
     "output_type": "stream",
     "text": [
      "X_train shape is: (1434, 324)\n",
      "y_train shape is: (1434,)\n",
      "X_test shape is: (615, 324)\n",
      "y_test shape is: (615,)\n"
     ]
    }
   ],
   "source": [
    "print(f'X_train shape is: {X_train.shape}')\n",
    "print(f'y_train shape is: {y_train.shape}')\n",
    "print(f'X_test shape is: {X_test.shape}')\n",
    "print(f'y_test shape is: {y_test.shape}')"
   ]
  },
  {
   "cell_type": "markdown",
   "metadata": {},
   "source": [
    "### Instantiating Standard Scaler"
   ]
  },
  {
   "cell_type": "code",
   "execution_count": 293,
   "metadata": {},
   "outputs": [],
   "source": [
    "# Instantiate Standard Scaler.\n",
    "sc = StandardScaler()"
   ]
  },
  {
   "cell_type": "markdown",
   "metadata": {},
   "source": [
    "### Fitting and transforming Standard Scaler to overfit the data in one step."
   ]
  },
  {
   "cell_type": "code",
   "execution_count": 294,
   "metadata": {},
   "outputs": [],
   "source": [
    "# Fit AND transform Standard Scaler to overfit data in one step.\n",
    "# Z_overfit_train = pd.DataFrame(ss_overfit.fit_transform(X_overfit_train))\n",
    "Z_train = sc.fit_transform(X_train)\n",
    "Z_test = sc.transform(X_test)"
   ]
  },
  {
   "cell_type": "markdown",
   "metadata": {},
   "source": [
    "### Setting up a list of Lasso alphas and fitting the model to the best lasso alpha"
   ]
  },
  {
   "cell_type": "code",
   "execution_count": 295,
   "metadata": {},
   "outputs": [
    {
     "name": "stderr",
     "output_type": "stream",
     "text": [
      "/opt/anaconda3/lib/python3.7/site-packages/sklearn/linear_model/coordinate_descent.py:471: ConvergenceWarning: Objective did not converge. You might want to increase the number of iterations. Duality gap: 837472694.1359253, tolerance: 723897159.8156364\n",
      "  tol, rng, random, positive)\n",
      "/opt/anaconda3/lib/python3.7/site-packages/sklearn/linear_model/coordinate_descent.py:471: ConvergenceWarning: Objective did not converge. You might want to increase the number of iterations. Duality gap: 722554939.7357178, tolerance: 678416180.9639719\n",
      "  tol, rng, random, positive)\n",
      "/opt/anaconda3/lib/python3.7/site-packages/sklearn/linear_model/coordinate_descent.py:471: ConvergenceWarning: Objective did not converge. You might want to increase the number of iterations. Duality gap: 776884349.5107422, tolerance: 663672475.2973784\n",
      "  tol, rng, random, positive)\n",
      "/opt/anaconda3/lib/python3.7/site-packages/sklearn/linear_model/coordinate_descent.py:475: ConvergenceWarning: Objective did not converge. You might want to increase the number of iterations. Duality gap: 14349394809.844116, tolerance: 873738115.5696994\n",
      "  positive)\n"
     ]
    },
    {
     "data": {
      "text/plain": [
       "LassoCV(alphas=array([  100.        ,   151.9911083 ,   231.01297001,   351.11917342,\n",
       "         533.66992312,   811.13083079,  1232.84673944,  1873.81742286,\n",
       "        2848.03586844,  4328.76128108,  6579.33224658, 10000.        ]),\n",
       "        copy_X=True, cv=5, eps=0.001, fit_intercept=True, max_iter=1000,\n",
       "        n_alphas=100, n_jobs=None, normalize=False, positive=False,\n",
       "        precompute='auto', random_state=None, selection='cyclic', tol=0.0001,\n",
       "        verbose=False)"
      ]
     },
     "execution_count": 295,
     "metadata": {},
     "output_type": "execute_result"
    }
   ],
   "source": [
    "# Set up a list of Lasso alphas to check.\n",
    "alphas_lasso = np.logspace(2, 4, 12)\n",
    "# Cross-validate over our list of Lasso alphas.\n",
    "lasso_cv = LassoCV(\n",
    "    alphas=alphas_lasso,\n",
    "    cv=5\n",
    ")\n",
    "# Fit model using best lasso alpha!\n",
    "lasso_cv.fit(Z_train, y_train)"
   ]
  },
  {
   "cell_type": "code",
   "execution_count": 296,
   "metadata": {},
   "outputs": [
    {
     "data": {
      "text/plain": [
       "151.99110829529332"
      ]
     },
     "execution_count": 296,
     "metadata": {},
     "output_type": "execute_result"
    }
   ],
   "source": [
    "# Here is the optimal value of alpha\n",
    "lasso_cv.alpha_"
   ]
  },
  {
   "cell_type": "markdown",
   "metadata": {},
   "source": [
    "### Above is the optimal lasso_cv alpha\n",
    "***\n",
    "### Testing R2 scores for train and test lasso models"
   ]
  },
  {
   "cell_type": "code",
   "execution_count": 297,
   "metadata": {},
   "outputs": [
    {
     "data": {
      "text/plain": [
       "0.9255793996637314"
      ]
     },
     "execution_count": 297,
     "metadata": {},
     "output_type": "execute_result"
    }
   ],
   "source": [
    "train_lasso_r2 = lasso_cv.score(Z_train, y_train)\n",
    "train_lasso_r2"
   ]
  },
  {
   "cell_type": "code",
   "execution_count": 298,
   "metadata": {},
   "outputs": [
    {
     "data": {
      "text/plain": [
       "0.925825529745825"
      ]
     },
     "execution_count": 298,
     "metadata": {},
     "output_type": "execute_result"
    }
   ],
   "source": [
    "test_lasso_r2 = lasso_cv.score(Z_test, y_test)\n",
    "test_lasso_r2"
   ]
  },
  {
   "cell_type": "markdown",
   "metadata": {},
   "source": [
    "### Train and test are nearly identical, similar to the ridge model.  Our model is fit very nicely with a higher R2 score\n",
    "***\n",
    "### Calculating RMSE for train and test lasso models"
   ]
  },
  {
   "cell_type": "code",
   "execution_count": 299,
   "metadata": {},
   "outputs": [],
   "source": [
    "predict_lasso_train = lasso_cv.predict(Z_train)"
   ]
  },
  {
   "cell_type": "code",
   "execution_count": 300,
   "metadata": {},
   "outputs": [],
   "source": [
    "predict_lasso_test = lasso_cv.predict(Z_test)"
   ]
  },
  {
   "cell_type": "code",
   "execution_count": 301,
   "metadata": {},
   "outputs": [
    {
     "data": {
      "text/plain": [
       "21294.2647672121"
      ]
     },
     "execution_count": 301,
     "metadata": {},
     "output_type": "execute_result"
    }
   ],
   "source": [
    "train_lasso_rmse = np.sqrt(mean_squared_error(y_train, predict_lasso_train))\n",
    "train_lasso_rmse"
   ]
  },
  {
   "cell_type": "code",
   "execution_count": 302,
   "metadata": {},
   "outputs": [
    {
     "data": {
      "text/plain": [
       "22302.01816013792"
      ]
     },
     "execution_count": 302,
     "metadata": {},
     "output_type": "execute_result"
    }
   ],
   "source": [
    "test_lasso_rmse = np.sqrt(mean_squared_error(y_test, predict_lasso_test))\n",
    "test_lasso_rmse"
   ]
  },
  {
   "cell_type": "markdown",
   "metadata": {},
   "source": [
    "### The RMSE has dropped about 7-8000 points compared to our MLR models\n",
    "***\n",
    "### Taking a peak at the lasso_cv coefficients to see how many are 0'd out"
   ]
  },
  {
   "cell_type": "code",
   "execution_count": 303,
   "metadata": {},
   "outputs": [
    {
     "data": {
      "text/plain": [
       "array([-1.16989333e+04,  0.00000000e+00, -0.00000000e+00, -2.84612834e+03,\n",
       "       -0.00000000e+00, -0.00000000e+00,  3.91654430e+02,  0.00000000e+00,\n",
       "       -2.17940865e+03,  0.00000000e+00, -8.54333017e+03, -0.00000000e+00,\n",
       "        0.00000000e+00,  0.00000000e+00, -0.00000000e+00, -0.00000000e+00,\n",
       "        0.00000000e+00, -0.00000000e+00, -0.00000000e+00,  0.00000000e+00,\n",
       "       -1.23454857e+01,  0.00000000e+00,  0.00000000e+00,  0.00000000e+00,\n",
       "        1.97112075e+02,  1.90991146e+04,  3.32227602e+03,  6.45663630e+03,\n",
       "        3.94197169e+04,  7.94406776e+02, -0.00000000e+00, -0.00000000e+00,\n",
       "        0.00000000e+00, -0.00000000e+00,  0.00000000e+00,  5.35637318e+03,\n",
       "        4.16479055e+03,  0.00000000e+00,  0.00000000e+00,  0.00000000e+00,\n",
       "        0.00000000e+00,  4.26015226e+03,  0.00000000e+00,  0.00000000e+00,\n",
       "       -0.00000000e+00, -0.00000000e+00,  0.00000000e+00, -0.00000000e+00,\n",
       "        0.00000000e+00,  0.00000000e+00,  0.00000000e+00,  0.00000000e+00,\n",
       "        0.00000000e+00,  0.00000000e+00,  0.00000000e+00,  0.00000000e+00,\n",
       "        0.00000000e+00,  0.00000000e+00,  0.00000000e+00,  0.00000000e+00,\n",
       "        0.00000000e+00,  0.00000000e+00,  0.00000000e+00,  0.00000000e+00,\n",
       "        7.35193812e+03,  0.00000000e+00, -0.00000000e+00, -0.00000000e+00,\n",
       "        0.00000000e+00,  0.00000000e+00,  1.00109350e+03,  0.00000000e+00,\n",
       "       -0.00000000e+00,  0.00000000e+00, -0.00000000e+00, -0.00000000e+00,\n",
       "       -0.00000000e+00,  0.00000000e+00, -0.00000000e+00,  0.00000000e+00,\n",
       "        0.00000000e+00, -0.00000000e+00, -6.61937352e+02,  0.00000000e+00,\n",
       "       -0.00000000e+00, -0.00000000e+00, -0.00000000e+00, -0.00000000e+00,\n",
       "        0.00000000e+00,  0.00000000e+00,  0.00000000e+00,  0.00000000e+00,\n",
       "       -3.26598190e+02, -1.14542404e+02,  0.00000000e+00, -0.00000000e+00,\n",
       "       -0.00000000e+00, -0.00000000e+00,  0.00000000e+00, -0.00000000e+00,\n",
       "        6.48434148e+03,  0.00000000e+00,  0.00000000e+00, -0.00000000e+00,\n",
       "        1.92552860e+03, -0.00000000e+00,  0.00000000e+00, -0.00000000e+00,\n",
       "        0.00000000e+00,  5.98037992e+02,  0.00000000e+00,  0.00000000e+00,\n",
       "        1.04015744e+03, -0.00000000e+00,  0.00000000e+00,  0.00000000e+00,\n",
       "       -0.00000000e+00, -0.00000000e+00,  0.00000000e+00, -0.00000000e+00,\n",
       "        3.44153308e+03,  0.00000000e+00, -0.00000000e+00,  0.00000000e+00,\n",
       "        0.00000000e+00,  0.00000000e+00,  0.00000000e+00,  0.00000000e+00,\n",
       "        6.51814123e+03,  8.80947234e+02, -0.00000000e+00, -5.72280785e+03,\n",
       "       -0.00000000e+00, -6.35659507e+03,  0.00000000e+00,  0.00000000e+00,\n",
       "        0.00000000e+00,  0.00000000e+00,  0.00000000e+00,  0.00000000e+00,\n",
       "        0.00000000e+00,  2.15695568e+03,  9.53476026e+02,  8.51515731e+02,\n",
       "       -0.00000000e+00,  0.00000000e+00,  0.00000000e+00,  1.95132115e+03,\n",
       "       -0.00000000e+00, -0.00000000e+00, -0.00000000e+00,  0.00000000e+00,\n",
       "        0.00000000e+00,  4.91156932e+03,  8.61561996e+03, -0.00000000e+00,\n",
       "        1.19923988e+03, -2.10436769e+03,  0.00000000e+00,  0.00000000e+00,\n",
       "        0.00000000e+00, -0.00000000e+00, -0.00000000e+00,  0.00000000e+00,\n",
       "        0.00000000e+00, -0.00000000e+00,  0.00000000e+00, -5.44655357e+03,\n",
       "        0.00000000e+00,  0.00000000e+00,  4.62646454e+03,  0.00000000e+00,\n",
       "       -0.00000000e+00,  0.00000000e+00, -1.70494110e+03,  0.00000000e+00,\n",
       "        0.00000000e+00,  0.00000000e+00, -0.00000000e+00, -0.00000000e+00,\n",
       "        0.00000000e+00,  0.00000000e+00, -0.00000000e+00,  0.00000000e+00,\n",
       "       -0.00000000e+00,  0.00000000e+00,  0.00000000e+00,  0.00000000e+00,\n",
       "        2.82296708e+03, -0.00000000e+00,  0.00000000e+00, -0.00000000e+00,\n",
       "       -2.00456579e+03,  0.00000000e+00,  0.00000000e+00,  2.73551328e+03,\n",
       "       -0.00000000e+00,  0.00000000e+00,  1.26804504e+03,  2.66758802e+03,\n",
       "       -0.00000000e+00,  0.00000000e+00,  0.00000000e+00, -1.13832011e+02,\n",
       "        0.00000000e+00, -0.00000000e+00,  0.00000000e+00,  0.00000000e+00,\n",
       "        0.00000000e+00, -0.00000000e+00, -0.00000000e+00,  0.00000000e+00,\n",
       "        0.00000000e+00, -0.00000000e+00,  0.00000000e+00, -2.98326522e+03,\n",
       "        0.00000000e+00,  0.00000000e+00,  0.00000000e+00, -2.33415378e+03,\n",
       "        8.25951308e+03, -1.68935497e+02,  3.13499304e+03, -1.47592866e+02,\n",
       "       -2.71013113e+03,  0.00000000e+00,  2.17260618e+03, -9.53356893e+02,\n",
       "       -0.00000000e+00, -1.41360344e+03, -0.00000000e+00,  1.05143821e+03,\n",
       "       -0.00000000e+00,  0.00000000e+00,  0.00000000e+00, -2.75925187e+03,\n",
       "       -0.00000000e+00, -0.00000000e+00,  0.00000000e+00,  0.00000000e+00,\n",
       "        0.00000000e+00,  0.00000000e+00, -0.00000000e+00,  0.00000000e+00,\n",
       "       -0.00000000e+00,  0.00000000e+00, -1.43296334e+03,  0.00000000e+00,\n",
       "       -0.00000000e+00, -8.66854551e+02,  3.67869162e+01, -2.60485491e+02,\n",
       "       -0.00000000e+00, -0.00000000e+00,  0.00000000e+00, -3.65591298e+03,\n",
       "       -4.31412279e+02,  5.65266784e+03, -0.00000000e+00,  0.00000000e+00,\n",
       "       -0.00000000e+00,  0.00000000e+00, -0.00000000e+00, -0.00000000e+00,\n",
       "       -1.48917108e+03, -1.99441198e+03,  0.00000000e+00,  8.79603231e+02,\n",
       "        2.50949010e+02, -1.68093979e+03, -0.00000000e+00, -0.00000000e+00,\n",
       "        8.91523531e+01, -4.40619984e+02, -0.00000000e+00, -0.00000000e+00,\n",
       "       -0.00000000e+00,  1.33013477e+02,  0.00000000e+00, -2.01696411e+03,\n",
       "        9.00057893e+02, -8.66620020e+02,  0.00000000e+00,  2.62384959e+02,\n",
       "        1.61234140e+03,  0.00000000e+00,  1.89292184e+03, -2.95714937e+02,\n",
       "       -1.25126470e+03,  0.00000000e+00, -2.41832571e+03,  0.00000000e+00,\n",
       "       -8.56489027e+02,  0.00000000e+00,  7.42615637e+02,  8.76764208e+03,\n",
       "       -0.00000000e+00, -0.00000000e+00,  0.00000000e+00, -1.22681664e+03,\n",
       "       -3.83843058e+03, -6.48346957e+02, -3.00996129e+03, -6.73982327e+03,\n",
       "       -0.00000000e+00, -0.00000000e+00, -0.00000000e+00, -8.67544606e+02,\n",
       "        0.00000000e+00,  0.00000000e+00,  4.05820022e+03,  8.98640064e+02,\n",
       "        1.58652786e+03,  1.40864787e+03, -0.00000000e+00,  4.68624155e+03,\n",
       "        2.54629791e+03, -0.00000000e+00,  0.00000000e+00, -5.04634025e+02,\n",
       "        1.13034773e+03, -1.96498095e+03, -0.00000000e+00, -0.00000000e+00])"
      ]
     },
     "execution_count": 303,
     "metadata": {},
     "output_type": "execute_result"
    }
   ],
   "source": [
    "lasso_cv.coef_"
   ]
  },
  {
   "cell_type": "markdown",
   "metadata": {},
   "source": [
    "### Many coeffecients have been made into 0.  Those that remain form the best combination of coefficients to  achieve the highest train/test scores with relatively equal values.\n",
    "***\n",
    "### Plotting predicted vs. actual y values of the Lasso Model"
   ]
  },
  {
   "cell_type": "code",
   "execution_count": 304,
   "metadata": {},
   "outputs": [],
   "source": [
    "y_preds_lasso = lasso_cv.predict(Z_test)"
   ]
  },
  {
   "cell_type": "code",
   "execution_count": 305,
   "metadata": {},
   "outputs": [
    {
     "data": {
      "image/png": "[encoded data removed]",
      "text/plain": [
       "<Figure size 864x576 with 1 Axes>"
      ]
     },
     "metadata": {
      "needs_background": "light"
     },
     "output_type": "display_data"
    }
   ],
   "source": [
    "# Plot the model\n",
    "plt.figure(figsize=(12,8))\n",
    "\n",
    "# Generate a scatterplot of predicted values versus actual values.\n",
    "plt.scatter(y_preds_lasso, y_test, s=5, color='skyblue', alpha = 0.5)\n",
    "\n",
    "# Plot a line.\n",
    "plt.plot([0, np.max(y)],\n",
    "         [0, np.max(y)],\n",
    "         color = 'black')\n",
    "\n",
    "# Tweak title and axis labels.\n",
    "plt.xlabel(\"Predicted Values: $\\hat{y}$\", fontsize = 20)\n",
    "plt.ylabel(\"Actual Values: $y$\", fontsize = 20)\n",
    "plt.title('Predicted Values vs. Actual Values', fontsize = 24);"
   ]
  },
  {
   "cell_type": "markdown",
   "metadata": {},
   "source": [
    "### This plot looks very similar to the one for the Ridge model.  The distribution is quite linear even at higher sale prices.  Very happy with the results of the Lasso Model.\n",
    "***\n",
    "### Adding the results of the Lasso model to the model_comparisons table"
   ]
  },
  {
   "cell_type": "code",
   "execution_count": 306,
   "metadata": {},
   "outputs": [
    {
     "data": {
      "text/html": [
       "<div>\n",
       "<style scoped>\n",
       "    .dataframe tbody tr th:only-of-type {\n",
       "        vertical-align: middle;\n",
       "    }\n",
       "\n",
       "    .dataframe tbody tr th {\n",
       "        vertical-align: top;\n",
       "    }\n",
       "\n",
       "    .dataframe thead th {\n",
       "        text-align: right;\n",
       "    }\n",
       "</style>\n",
       "<table border=\"1\" class=\"dataframe\">\n",
       "  <thead>\n",
       "    <tr style=\"text-align: right;\">\n",
       "      <th></th>\n",
       "      <th>minimum_features_MLR</th>\n",
       "      <th>full_features_MLR</th>\n",
       "      <th>log_full_features_MLR</th>\n",
       "      <th>ridge_model</th>\n",
       "    </tr>\n",
       "  </thead>\n",
       "  <tbody>\n",
       "    <tr>\n",
       "      <th>train R2</th>\n",
       "      <td>0.864981</td>\n",
       "      <td>0.869081</td>\n",
       "      <td>0.890478</td>\n",
       "      <td>0.926639</td>\n",
       "    </tr>\n",
       "    <tr>\n",
       "      <th>test R2</th>\n",
       "      <td>0.871427</td>\n",
       "      <td>0.880378</td>\n",
       "      <td>0.907109</td>\n",
       "      <td>0.928647</td>\n",
       "    </tr>\n",
       "    <tr>\n",
       "      <th>train_RMSE</th>\n",
       "      <td>29676.976985</td>\n",
       "      <td>29222.926156</td>\n",
       "      <td>197099.326506</td>\n",
       "      <td>21142.187458</td>\n",
       "    </tr>\n",
       "    <tr>\n",
       "      <th>test RMSE</th>\n",
       "      <td>26739.762753</td>\n",
       "      <td>25792.144480</td>\n",
       "      <td>191468.597492</td>\n",
       "      <td>21873.744177</td>\n",
       "    </tr>\n",
       "  </tbody>\n",
       "</table>\n",
       "</div>"
      ],
      "text/plain": [
       "            minimum_features_MLR  full_features_MLR  log_full_features_MLR  \\\n",
       "train R2                0.864981           0.869081               0.890478   \n",
       "test R2                 0.871427           0.880378               0.907109   \n",
       "train_RMSE          29676.976985       29222.926156          197099.326506   \n",
       "test RMSE           26739.762753       25792.144480          191468.597492   \n",
       "\n",
       "             ridge_model  \n",
       "train R2        0.926639  \n",
       "test R2         0.928647  \n",
       "train_RMSE  21142.187458  \n",
       "test RMSE   21873.744177  "
      ]
     },
     "execution_count": 306,
     "metadata": {},
     "output_type": "execute_result"
    }
   ],
   "source": [
    "table = pd.read_csv('../datasets/model_comparisons_table.csv', index_col = [0])\n",
    "table = table.drop('lasso_model', axis=1)\n",
    "table"
   ]
  },
  {
   "cell_type": "code",
   "execution_count": 307,
   "metadata": {},
   "outputs": [
    {
     "data": {
      "text/html": [
       "<div>\n",
       "<style scoped>\n",
       "    .dataframe tbody tr th:only-of-type {\n",
       "        vertical-align: middle;\n",
       "    }\n",
       "\n",
       "    .dataframe tbody tr th {\n",
       "        vertical-align: top;\n",
       "    }\n",
       "\n",
       "    .dataframe thead th {\n",
       "        text-align: right;\n",
       "    }\n",
       "</style>\n",
       "<table border=\"1\" class=\"dataframe\">\n",
       "  <thead>\n",
       "    <tr style=\"text-align: right;\">\n",
       "      <th></th>\n",
       "      <th>minimum_features_MLR</th>\n",
       "      <th>full_features_MLR</th>\n",
       "      <th>log_full_features_MLR</th>\n",
       "      <th>ridge_model</th>\n",
       "      <th>lasso_model</th>\n",
       "    </tr>\n",
       "  </thead>\n",
       "  <tbody>\n",
       "    <tr>\n",
       "      <th>train R2</th>\n",
       "      <td>0.864981</td>\n",
       "      <td>0.869081</td>\n",
       "      <td>0.890478</td>\n",
       "      <td>0.926639</td>\n",
       "      <td>0.925579</td>\n",
       "    </tr>\n",
       "    <tr>\n",
       "      <th>test R2</th>\n",
       "      <td>0.871427</td>\n",
       "      <td>0.880378</td>\n",
       "      <td>0.907109</td>\n",
       "      <td>0.928647</td>\n",
       "      <td>0.925826</td>\n",
       "    </tr>\n",
       "    <tr>\n",
       "      <th>train_RMSE</th>\n",
       "      <td>29676.976985</td>\n",
       "      <td>29222.926156</td>\n",
       "      <td>197099.326506</td>\n",
       "      <td>21142.187458</td>\n",
       "      <td>21294.264767</td>\n",
       "    </tr>\n",
       "    <tr>\n",
       "      <th>test RMSE</th>\n",
       "      <td>26739.762753</td>\n",
       "      <td>25792.144480</td>\n",
       "      <td>191468.597492</td>\n",
       "      <td>21873.744177</td>\n",
       "      <td>22302.018160</td>\n",
       "    </tr>\n",
       "  </tbody>\n",
       "</table>\n",
       "</div>"
      ],
      "text/plain": [
       "            minimum_features_MLR  full_features_MLR  log_full_features_MLR  \\\n",
       "train R2                0.864981           0.869081               0.890478   \n",
       "test R2                 0.871427           0.880378               0.907109   \n",
       "train_RMSE          29676.976985       29222.926156          197099.326506   \n",
       "test RMSE           26739.762753       25792.144480          191468.597492   \n",
       "\n",
       "             ridge_model   lasso_model  \n",
       "train R2        0.926639      0.925579  \n",
       "test R2         0.928647      0.925826  \n",
       "train_RMSE  21142.187458  21294.264767  \n",
       "test RMSE   21873.744177  22302.018160  "
      ]
     },
     "execution_count": 307,
     "metadata": {},
     "output_type": "execute_result"
    }
   ],
   "source": [
    "table['lasso_model'] = [train_lasso_r2, test_lasso_r2, train_lasso_rmse, test_lasso_rmse]\n",
    "table"
   ]
  },
  {
   "cell_type": "markdown",
   "metadata": {},
   "source": [
    "### Above is the completed table displaying all 5 models that I tested\n",
    "***\n",
    "### Saving the complete table to csv"
   ]
  },
  {
   "cell_type": "code",
   "execution_count": 308,
   "metadata": {},
   "outputs": [],
   "source": [
    "table.to_csv('../datasets/model_comparisons_table.csv')"
   ]
  },
  {
   "cell_type": "code",
   "execution_count": null,
   "metadata": {},
   "outputs": [],
   "source": []
  }
 ],
 "metadata": {
  "kernelspec": {
   "display_name": "Python 3",
   "language": "python",
   "name": "python3"
  },
  "language_info": {
   "codemirror_mode": {
    "name": "ipython",
    "version": 3
   },
   "file_extension": ".py",
   "mimetype": "text/x-python",
   "name": "python",
   "nbconvert_exporter": "python",
   "pygments_lexer": "ipython3",
   "version": "3.7.4"
  }
 },
 "nbformat": 4,
 "nbformat_minor": 4
}
